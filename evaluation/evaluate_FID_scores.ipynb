{
 "cells": [
  {
   "cell_type": "code",
   "execution_count": 1,
   "id": "initial_id",
   "metadata": {
    "collapsed": true,
    "ExecuteTime": {
     "end_time": "2024-07-15T19:18:16.568224Z",
     "start_time": "2024-07-15T19:18:06.795222900Z"
    }
   },
   "outputs": [],
   "source": [
    "import torch\n",
    "_ = torch.manual_seed(123)\n",
    "from torchmetrics.image.fid import FrechetInceptionDistance\n",
    "fid = FrechetInceptionDistance(feature=64)"
   ]
  },
  {
   "cell_type": "code",
   "execution_count": 2,
   "outputs": [],
   "source": [
    "import pandas as pd\n",
    "\n",
    "base_path = \"../images/\"\n",
    "models = {\n",
    "    \"DALLE-3\": \".jpg\",\n",
    "    \"Midjourney\": \".png\",\n",
    "    \"artbreeder\": \".jfif\",\n",
    "    \"SD1_4\": \".png\",\n",
    "    \"SD2_1_base\": \".png\",\n",
    "    \"SD_3\": \".png\",\n",
    "    \"Wuerstchen\": \".png\"\n",
    "}\n",
    "\n",
    "ls_bilder = pd.read_csv(\"../sampled_data_fixed.csv\")"
   ],
   "metadata": {
    "collapsed": false,
    "ExecuteTime": {
     "end_time": "2024-07-15T19:18:16.570222400Z",
     "start_time": "2024-07-15T19:18:16.547227700Z"
    }
   },
   "id": "7b18c63fa870b2c7"
  },
  {
   "cell_type": "code",
   "execution_count": 3,
   "outputs": [
    {
     "name": "stdout",
     "output_type": "stream",
     "text": [
      "** DALLE-3\n",
      "\tFID score: 21.401721954345703\n",
      "** Midjourney\n",
      "\tFID score: 11.409895896911621\n",
      "** artbreeder\n",
      "\tFID score: 25.318025588989258\n",
      "** SD1_4\n",
      "\tFID score: 21.090452194213867\n",
      "** SD2_1_base\n",
      "\tFID score: 13.237985610961914\n",
      "** SD_3\n",
      "\tFID score: 5.029284954071045\n",
      "** Wuerstchen\n",
      "\tFID score: 4.881202220916748\n"
     ]
    }
   ],
   "source": [
    "import torchvision\n",
    "import os\n",
    "import glob\n",
    "\n",
    "for model, file_ending in models.items():\n",
    "    print(\"**\", model)\n",
    "    fid.reset()\n",
    "    for english_name in ls_bilder[\"english_name\"]:\n",
    "        image_name = english_name.replace(' ', '_')\n",
    "        if os.path.exists(f\"{base_path}{model}/{image_name}_0{file_ending}\"): \n",
    "            reference_tensor = torchvision.io.read_image(base_path + \"references/\" + image_name + \".jpg\")\n",
    "            fid.update(reference_tensor.unsqueeze(0), real=True)\n",
    "            for image in glob.glob(f\"{base_path}{model}/{image_name}_?{file_ending}\"):\n",
    "                image_tensor = torchvision.io.read_image(image)\n",
    "                fid.update(image_tensor.unsqueeze(0), real=False)\n",
    "        else:\n",
    "            print(f\"\\t\\tNo images for {english_name}\")\n",
    "    print(\"\\tFID score:\", fid.compute().item())"
   ],
   "metadata": {
    "collapsed": false,
    "ExecuteTime": {
     "end_time": "2024-07-15T19:20:28.113823Z",
     "start_time": "2024-07-15T19:18:16.580222200Z"
    }
   },
   "id": "8c50ed84887e7c32"
  },
  {
   "cell_type": "code",
   "execution_count": 4,
   "outputs": [],
   "source": [
    "import pandas as pd\n",
    "\n",
    "tifa_scores = pd.read_csv(\"tifa_scores_mplug.csv\")"
   ],
   "metadata": {
    "collapsed": false,
    "ExecuteTime": {
     "end_time": "2024-07-15T19:20:28.479824200Z",
     "start_time": "2024-07-15T19:20:28.114824400Z"
    }
   },
   "id": "94386b9a8d10084b"
  },
  {
   "cell_type": "code",
   "execution_count": 5,
   "outputs": [
    {
     "name": "stdout",
     "output_type": "stream",
     "text": [
      "** DALLE-3\n",
      "\tFID score: 21.328031539916992\n",
      "** Midjourney\n",
      "\tFID score: 10.80593204498291\n",
      "** artbreeder\n",
      "\tFID score: 24.849544525146484\n",
      "** SD1_4\n",
      "\tFID score: 17.541004180908203\n",
      "** SD2_1_base\n",
      "\tFID score: 13.936381340026855\n",
      "** SD_3\n",
      "\tFID score: 5.464052200317383\n",
      "** Wuerstchen\n",
      "\tFID score: 4.889194011688232\n"
     ]
    }
   ],
   "source": [
    "import torchvision\n",
    "\n",
    "for model, file_ending in models.items():\n",
    "    print(\"**\", model)\n",
    "    fid.reset()\n",
    "    for english_name in ls_bilder[\"english_name\"]:\n",
    "        tifa_scores_item = tifa_scores[(tifa_scores[\"model\"] == model) & (tifa_scores[\"name\"] == english_name)]\n",
    "        id_best_tifa = tifa_scores_item.loc[tifa_scores_item[\"tifa_score\"].idxmax()][\"id\"]\n",
    "        image_name = english_name.replace(' ', '_')\n",
    "        reference_tensor = torchvision.io.read_image(base_path + \"references/\" + image_name + \".jpg\")\n",
    "        fid.update(reference_tensor.unsqueeze(0), real=True)\n",
    "        image_tensor = torchvision.io.read_image(f\"{base_path}{model}/{image_name}_{id_best_tifa}{file_ending}\")\n",
    "        fid.update(image_tensor.unsqueeze(0), real=False)\n",
    "    print(\"\\tFID score:\", fid.compute().item())"
   ],
   "metadata": {
    "collapsed": false,
    "ExecuteTime": {
     "end_time": "2024-07-15T19:21:06.064820300Z",
     "start_time": "2024-07-15T19:20:28.479824200Z"
    }
   },
   "id": "dbea032f150bddac"
  },
  {
   "cell_type": "markdown",
   "source": [
    "### Embedding dim changed to 768"
   ],
   "metadata": {
    "collapsed": false
   },
   "id": "141dad2bc1e77b8b"
  },
  {
   "cell_type": "code",
   "execution_count": 8,
   "outputs": [
    {
     "name": "stdout",
     "output_type": "stream",
     "text": [
      "** DALLE-3\n",
      "\tFID score: 1.2599749565124512\n",
      "** Midjourney\n",
      "\tFID score: 0.8951289653778076\n",
      "** artbreeder\n",
      "\tFID score: 1.5184662342071533\n",
      "** SD1_4\n",
      "\tFID score: 1.4867010116577148\n",
      "** SD2_1_base\n",
      "\tFID score: 1.3720369338989258\n",
      "** SD_3\n",
      "\tFID score: 0.8881295323371887\n",
      "** Wuerstchen\n",
      "\tFID score: 0.9010628461837769\n"
     ]
    }
   ],
   "source": [
    "# features dim= 768\n",
    "\n",
    "import torchvision\n",
    "import os\n",
    "import glob\n",
    "\n",
    "fid = FrechetInceptionDistance(feature=768)\n",
    "\n",
    "for model, file_ending in models.items():\n",
    "    print(\"**\", model)\n",
    "    fid.reset()\n",
    "    for english_name in ls_bilder[\"english_name\"]:\n",
    "        image_name = english_name.replace(' ', '_')\n",
    "        if os.path.exists(f\"{base_path}{model}/{image_name}_0{file_ending}\"): \n",
    "            reference_tensor = torchvision.io.read_image(base_path + \"references/\" + image_name + \".jpg\")\n",
    "            fid.update(reference_tensor.unsqueeze(0), real=True)\n",
    "            for image in glob.glob(f\"{base_path}{model}/{image_name}_?{file_ending}\"):\n",
    "                image_tensor = torchvision.io.read_image(image)\n",
    "                fid.update(image_tensor.unsqueeze(0), real=False)\n",
    "        else:\n",
    "            print(f\"\\t\\tNo images for {english_name}\")\n",
    "    print(\"\\tFID score:\", fid.compute().item())"
   ],
   "metadata": {
    "collapsed": false,
    "ExecuteTime": {
     "end_time": "2024-07-15T19:31:24.011000100Z",
     "start_time": "2024-07-15T19:25:15.340829300Z"
    }
   },
   "id": "74674b344bcf65df"
  },
  {
   "cell_type": "code",
   "execution_count": 9,
   "outputs": [
    {
     "name": "stdout",
     "output_type": "stream",
     "text": [
      "** DALLE-3\n",
      "\tFID score: 1.3199169635772705\n",
      "** Midjourney\n",
      "\tFID score: 0.9904583096504211\n",
      "** artbreeder\n",
      "\tFID score: 1.5955837965011597\n",
      "** SD1_4\n",
      "\tFID score: 1.5263817310333252\n",
      "** SD2_1_base\n",
      "\tFID score: 1.445076584815979\n",
      "** SD_3\n",
      "\tFID score: 0.9700427055358887\n",
      "** Wuerstchen\n",
      "\tFID score: 0.9858236312866211\n"
     ]
    }
   ],
   "source": [
    "# feature dim = 768 with tifa filter\n",
    "\n",
    "import torchvision\n",
    "\n",
    "for model, file_ending in models.items():\n",
    "    print(\"**\", model)\n",
    "    fid.reset()\n",
    "    for english_name in ls_bilder[\"english_name\"]:\n",
    "        tifa_scores_item = tifa_scores[(tifa_scores[\"model\"] == model) & (tifa_scores[\"name\"] == english_name)]\n",
    "        id_best_tifa = tifa_scores_item.loc[tifa_scores_item[\"tifa_score\"].idxmax()][\"id\"]\n",
    "        image_name = english_name.replace(' ', '_')\n",
    "        reference_tensor = torchvision.io.read_image(base_path + \"references/\" + image_name + \".jpg\")\n",
    "        fid.update(reference_tensor.unsqueeze(0), real=True)\n",
    "        image_tensor = torchvision.io.read_image(f\"{base_path}{model}/{image_name}_{id_best_tifa}{file_ending}\")\n",
    "        fid.update(image_tensor.unsqueeze(0), real=False)\n",
    "    print(\"\\tFID score:\", fid.compute().item())"
   ],
   "metadata": {
    "collapsed": false,
    "ExecuteTime": {
     "end_time": "2024-07-15T19:33:32.635672600Z",
     "start_time": "2024-07-15T19:31:24.018000500Z"
    }
   },
   "id": "3e10a2f10d12a997"
  },
  {
   "cell_type": "code",
   "execution_count": null,
   "outputs": [],
   "source": [],
   "metadata": {
    "collapsed": false
   },
   "id": "da68124275568fa6"
  }
 ],
 "metadata": {
  "kernelspec": {
   "display_name": "Python 3",
   "language": "python",
   "name": "python3"
  },
  "language_info": {
   "codemirror_mode": {
    "name": "ipython",
    "version": 2
   },
   "file_extension": ".py",
   "mimetype": "text/x-python",
   "name": "python",
   "nbconvert_exporter": "python",
   "pygments_lexer": "ipython2",
   "version": "2.7.6"
  }
 },
 "nbformat": 4,
 "nbformat_minor": 5
}
