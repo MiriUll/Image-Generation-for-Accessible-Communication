{
 "cells": [
  {
   "cell_type": "markdown",
   "id": "997d71d4e720df99",
   "metadata": {
    "collapsed": false
   },
   "source": [
    "## Try Tifa sample code"
   ]
  },
  {
   "cell_type": "code",
   "execution_count": 1,
   "id": "initial_id",
   "metadata": {
    "ExecuteTime": {
     "end_time": "2024-07-09T07:31:08.213993500Z",
     "start_time": "2024-07-09T07:09:29.276787200Z"
    },
    "collapsed": false
   },
   "outputs": [
    {
     "data": {
      "application/vnd.jupyter.widget-view+json": {
       "model_id": "255de033d8114e32a130011c2346ba2d",
       "version_major": 2,
       "version_minor": 0
      },
      "text/plain": [
       "Loading checkpoint shards:   0%|          | 0/2 [00:00<?, ?it/s]"
      ]
     },
     "metadata": {},
     "output_type": "display_data"
    },
    {
     "name": "stderr",
     "output_type": "stream",
     "text": [
      "D:\\Documents\\workspaces\\PyCharm projects\\ExplainImageGen\\vision_venv\\lib\\site-packages\\transformers\\models\\llama\\modeling_llama.py:648: UserWarning: 1Torch was not compiled with flash attention. (Triggered internally at ..\\aten\\src\\ATen\\native\\transformers\\cuda\\sdp_utils.cpp:455.)\n",
      "  attn_output = torch.nn.functional.scaled_dot_product_attention(\n"
     ]
    }
   ],
   "source": [
    "from tifascore import get_llama2_pipeline, get_llama2_question_and_answers\n",
    "\n",
    "pipeline = get_llama2_pipeline(\"tifa-benchmark/llama2_tifa_question_generation\")\n",
    "\n",
    "llama2_questions = get_llama2_question_and_answers(pipeline, \"Three cats and two dogs sitting on the grass.\")"
   ]
  },
  {
   "cell_type": "code",
   "execution_count": 2,
   "id": "ad12249a95094602",
   "metadata": {
    "ExecuteTime": {
     "end_time": "2024-07-09T07:31:08.275003200Z",
     "start_time": "2024-07-09T07:31:08.249991800Z"
    },
    "collapsed": false
   },
   "outputs": [
    {
     "data": {
      "text/plain": [
       "[{'caption': 'Three cats and two dogs sitting on the grass.',\n",
       "  'element': 'cats',\n",
       "  'question': 'what animals are in the picture?',\n",
       "  'choices': ['cats', 'dogs', 'birds', 'fish'],\n",
       "  'answer': 'cats',\n",
       "  'element_type': 'animal/human'},\n",
       " {'caption': 'Three cats and two dogs sitting on the grass.',\n",
       "  'element': 'dogs',\n",
       "  'question': 'are there dogs?',\n",
       "  'choices': ['yes', 'no'],\n",
       "  'answer': 'yes',\n",
       "  'element_type': 'animal/human'},\n",
       " {'caption': 'Three cats and two dogs sitting on the grass.',\n",
       "  'element': 'dogs',\n",
       "  'question': 'what animals are in the picture?',\n",
       "  'choices': ['dogs', 'cats', 'birds', 'fish'],\n",
       "  'answer': 'dogs',\n",
       "  'element_type': 'animal/human'},\n",
       " {'caption': 'Three cats and two dogs sitting on the grass.',\n",
       "  'element': 'grass',\n",
       "  'question': 'is there grass?',\n",
       "  'choices': ['yes', 'no'],\n",
       "  'answer': 'yes',\n",
       "  'element_type': 'object'},\n",
       " {'caption': 'Three cats and two dogs sitting on the grass.',\n",
       "  'element': 'grass',\n",
       "  'question': 'what is the animals sitting on?',\n",
       "  'choices': ['grass', 'leaves', 'twigs', 'sand'],\n",
       "  'answer': 'grass',\n",
       "  'element_type': 'object'},\n",
       " {'caption': 'Three cats and two dogs sitting on the grass.',\n",
       "  'element': 'sitting',\n",
       "  'question': 'are the animals sitting?',\n",
       "  'choices': ['yes', 'no'],\n",
       "  'answer': 'yes',\n",
       "  'element_type': 'activity'},\n",
       " {'caption': 'Three cats and two dogs sitting on the grass.',\n",
       "  'element': 'sitting',\n",
       "  'question': 'what are the animals doing?',\n",
       "  'choices': ['sitting', 'standing', 'running', 'jumping'],\n",
       "  'answer': 'sitting',\n",
       "  'element_type': 'activity'},\n",
       " {'caption': 'Three cats and two dogs sitting on the grass.',\n",
       "  'element': 'three',\n",
       "  'question': 'are there three cats?',\n",
       "  'choices': ['yes', 'no'],\n",
       "  'answer': 'yes',\n",
       "  'element_type': 'counting'},\n",
       " {'caption': 'Three cats and two dogs sitting on the grass.',\n",
       "  'element': 'three',\n",
       "  'question': 'how many cats are in the picture?',\n",
       "  'choices': ['1', '2', '3', '4'],\n",
       "  'answer': '3',\n",
       "  'element_type': 'counting'},\n",
       " {'caption': 'Three cats and two dogs sitting on the grass.',\n",
       "  'element': 'two',\n",
       "  'question': 'are there two dogs?',\n",
       "  'choices': ['yes', 'no'],\n",
       "  'answer': 'yes',\n",
       "  'element_type': 'counting'},\n",
       " {'caption': 'Three cats and two dogs sitting on the grass.',\n",
       "  'element': 'two',\n",
       "  'question': 'how many dogs are in the picture?',\n",
       "  'choices': ['1', '2', '3', '4'],\n",
       "  'answer': '2',\n",
       "  'element_type': 'counting'}]"
      ]
     },
     "execution_count": 2,
     "metadata": {},
     "output_type": "execute_result"
    }
   ],
   "source": [
    "llama2_questions"
   ]
  },
  {
   "cell_type": "code",
   "execution_count": 1,
   "id": "ca98e4a0a94299f",
   "metadata": {
    "ExecuteTime": {
     "end_time": "2024-07-09T07:34:55.851834Z",
     "start_time": "2024-07-09T07:34:55.840833600Z"
    },
    "collapsed": false
   },
   "outputs": [],
   "source": [
    "import ast\n",
    "\n",
    "ll = ast.literal_eval(\"\"\"\n",
    "[{'caption': 'Three cats and two dogs sitting on the grass.',\n",
    "  'element': 'cats',\n",
    "  'question': 'what animals are in the picture?',\n",
    "  'choices': ['cats', 'dogs', 'birds', 'fish'],\n",
    "  'answer': 'cats',\n",
    "  'element_type': 'animal/human'},\n",
    " {'caption': 'Three cats and two dogs sitting on the grass.',\n",
    "  'element': 'dogs',\n",
    "  'question': 'are there dogs?',\n",
    "  'choices': ['yes', 'no'],\n",
    "  'answer': 'yes',\n",
    "  'element_type': 'animal/human'},\n",
    " {'caption': 'Three cats and two dogs sitting on the grass.',\n",
    "  'element': 'dogs',\n",
    "  'question': 'what animals are in the picture?',\n",
    "  'choices': ['dogs', 'cats', 'birds', 'fish'],\n",
    "  'answer': 'dogs',\n",
    "  'element_type': 'animal/human'},\n",
    " {'caption': 'Three cats and two dogs sitting on the grass.',\n",
    "  'element': 'grass',\n",
    "  'question': 'is there grass?',\n",
    "  'choices': ['yes', 'no'],\n",
    "  'answer': 'yes',\n",
    "  'element_type': 'object'},\n",
    " {'caption': 'Three cats and two dogs sitting on the grass.',\n",
    "  'element': 'grass',\n",
    "  'question': 'what is the animals sitting on?',\n",
    "  'choices': ['grass', 'leaves', 'twigs', 'sand'],\n",
    "  'answer': 'grass',\n",
    "  'element_type': 'object'},\n",
    " {'caption': 'Three cats and two dogs sitting on the grass.',\n",
    "  'element': 'sitting',\n",
    "  'question': 'are the animals sitting?',\n",
    "  'choices': ['yes', 'no'],\n",
    "  'answer': 'yes',\n",
    "  'element_type': 'activity'},\n",
    " {'caption': 'Three cats and two dogs sitting on the grass.',\n",
    "  'element': 'sitting',\n",
    "  'question': 'what are the animals doing?',\n",
    "  'choices': ['sitting', 'standing', 'running', 'jumping'],\n",
    "  'answer': 'sitting',\n",
    "  'element_type': 'activity'},\n",
    " {'caption': 'Three cats and two dogs sitting on the grass.',\n",
    "  'element': 'three',\n",
    "  'question': 'are there three cats?',\n",
    "  'choices': ['yes', 'no'],\n",
    "  'answer': 'yes',\n",
    "  'element_type': 'counting'},\n",
    " {'caption': 'Three cats and two dogs sitting on the grass.',\n",
    "  'element': 'three',\n",
    "  'question': 'how many cats are in the picture?',\n",
    "  'choices': ['1', '2', '3', '4'],\n",
    "  'answer': '3',\n",
    "  'element_type': 'counting'},\n",
    " {'caption': 'Three cats and two dogs sitting on the grass.',\n",
    "  'element': 'two',\n",
    "  'question': 'are there two dogs?',\n",
    "  'choices': ['yes', 'no'],\n",
    "  'answer': 'yes',\n",
    "  'element_type': 'counting'},\n",
    " {'caption': 'Three cats and two dogs sitting on the grass.',\n",
    "  'element': 'two',\n",
    "  'question': 'how many dogs are in the picture?',\n",
    "  'choices': ['1', '2', '3', '4'],\n",
    "  'answer': '2',\n",
    "  'element_type': 'counting'}]\"\"\")"
   ]
  },
  {
   "cell_type": "code",
   "execution_count": 2,
   "id": "eb5806d27312a717",
   "metadata": {
    "ExecuteTime": {
     "end_time": "2024-07-09T07:36:50.500453100Z",
     "start_time": "2024-07-09T07:35:00.118259800Z"
    },
    "collapsed": false
   },
   "outputs": [
    {
     "name": "stdout",
     "output_type": "stream",
     "text": [
      "Loading blip-base...\n",
      "Finish loading blip-base\n",
      "Using SBERT on GPU\n",
      "[{'caption': 'Three cats and two dogs sitting on the grass.', 'element': 'dogs', 'question': 'are there dogs?', 'choices': ['yes', 'no'], 'answer': 'yes', 'element_type': 'animal/human'}, {'caption': 'Three cats and two dogs sitting on the grass.', 'element': 'grass', 'question': 'is there grass?', 'choices': ['yes', 'no'], 'answer': 'yes', 'element_type': 'object'}, {'caption': 'Three cats and two dogs sitting on the grass.', 'element': 'grass', 'question': 'what is the animals sitting on?', 'choices': ['grass', 'leaves', 'twigs', 'sand'], 'answer': 'grass', 'element_type': 'object'}, {'caption': 'Three cats and two dogs sitting on the grass.', 'element': 'sitting', 'question': 'are the animals sitting?', 'choices': ['yes', 'no'], 'answer': 'yes', 'element_type': 'activity'}, {'caption': 'Three cats and two dogs sitting on the grass.', 'element': 'three', 'question': 'are there three cats?', 'choices': ['yes', 'no'], 'answer': 'yes', 'element_type': 'counting'}, {'caption': 'Three cats and two dogs sitting on the grass.', 'element': 'three', 'question': 'how many cats are in the picture?', 'choices': ['1', '2', '3', '4'], 'answer': '3', 'element_type': 'counting'}, {'caption': 'Three cats and two dogs sitting on the grass.', 'element': 'two', 'question': 'are there two dogs?', 'choices': ['yes', 'no'], 'answer': 'yes', 'element_type': 'counting'}, {'caption': 'Three cats and two dogs sitting on the grass.', 'element': 'two', 'question': 'how many dogs are in the picture?', 'choices': ['1', '2', '3', '4'], 'answer': '2', 'element_type': 'counting'}]\n"
     ]
    },
    {
     "name": "stderr",
     "output_type": "stream",
     "text": [
      "100%|██████████| 8/8 [00:12<00:00,  1.58s/it]"
     ]
    },
    {
     "name": "stdout",
     "output_type": "stream",
     "text": [
      "TIFA score is 0.625\n",
      "{'tifa_score': 0.625, 'question_details': {'are there dogs?': {'caption': 'Three cats and two dogs sitting on the grass.', 'element': 'dogs', 'question': 'are there dogs?', 'choices': ['yes', 'no'], 'answer': 'yes', 'element_type': 'animal/human', 'free_form_vqa': 'no', 'multiple_choice_vqa': 'no', 'scores': 0}, 'is there grass?': {'caption': 'Three cats and two dogs sitting on the grass.', 'element': 'grass', 'question': 'is there grass?', 'choices': ['yes', 'no'], 'answer': 'yes', 'element_type': 'object', 'free_form_vqa': 'yes', 'multiple_choice_vqa': 'yes', 'scores': 1}, 'what is the animals sitting on?': {'caption': 'Three cats and two dogs sitting on the grass.', 'element': 'grass', 'question': 'what is the animals sitting on?', 'choices': ['grass', 'leaves', 'twigs', 'sand'], 'answer': 'grass', 'element_type': 'object', 'free_form_vqa': 'grass', 'multiple_choice_vqa': 'grass', 'scores': 1}, 'are the animals sitting?': {'caption': 'Three cats and two dogs sitting on the grass.', 'element': 'sitting', 'question': 'are the animals sitting?', 'choices': ['yes', 'no'], 'answer': 'yes', 'element_type': 'activity', 'free_form_vqa': 'yes', 'multiple_choice_vqa': 'yes', 'scores': 1}, 'are there three cats?': {'caption': 'Three cats and two dogs sitting on the grass.', 'element': 'three', 'question': 'are there three cats?', 'choices': ['yes', 'no'], 'answer': 'yes', 'element_type': 'counting', 'free_form_vqa': 'yes', 'multiple_choice_vqa': 'yes', 'scores': 1}, 'how many cats are in the picture?': {'caption': 'Three cats and two dogs sitting on the grass.', 'element': 'three', 'question': 'how many cats are in the picture?', 'choices': ['1', '2', '3', '4'], 'answer': '3', 'element_type': 'counting', 'free_form_vqa': '3', 'multiple_choice_vqa': '3', 'scores': 1}, 'are there two dogs?': {'caption': 'Three cats and two dogs sitting on the grass.', 'element': 'two', 'question': 'are there two dogs?', 'choices': ['yes', 'no'], 'answer': 'yes', 'element_type': 'counting', 'free_form_vqa': 'no', 'multiple_choice_vqa': 'no', 'scores': 0}, 'how many dogs are in the picture?': {'caption': 'Three cats and two dogs sitting on the grass.', 'element': 'two', 'question': 'how many dogs are in the picture?', 'choices': ['1', '2', '3', '4'], 'answer': '2', 'element_type': 'counting', 'free_form_vqa': '0', 'multiple_choice_vqa': '1', 'scores': 0}}}\n"
     ]
    },
    {
     "name": "stderr",
     "output_type": "stream",
     "text": [
      "\n"
     ]
    }
   ],
   "source": [
    "from tifascore import get_question_and_answers, filter_question_and_answers, UnifiedQAModel, tifa_score_single, VQAModel\n",
    "import openai\n",
    "\n",
    "openai.api_key = \"[Your OpenAI Key]\"\n",
    "unifiedqa_model = UnifiedQAModel(\"allenai/unifiedqa-v2-t5-large-1363200\")\n",
    "#vqa_model = VQAModel(\"mplug-large\")\n",
    "#vqa_model = VQAModel(\"Salesforce/blip-vqa-base\")\n",
    "vqa_model = VQAModel(\"blip-base\")\n",
    "    \n",
    "    \n",
    "img_path = \"../tifa/sample/drawbench_52.jpg\"\n",
    "text = \"Three cats and two dogs sitting on the grass.\"\n",
    "    \n",
    "# Generate questions with GPT-3.5-turbo\n",
    "#gpt3_questions = get_question_and_answers(text)\n",
    "    \n",
    "# Filter questions with UnifiedQA\n",
    "filtered_questions = filter_question_and_answers(unifiedqa_model, ll)\n",
    "    \n",
    "# See the questions\n",
    "print(filtered_questions)\n",
    "\n",
    "# calucluate TIFA score\n",
    "result = tifa_score_single(vqa_model, filtered_questions, img_path)\n",
    "print(f\"TIFA score is {result['tifa_score']}\")   # 0.33\n",
    "print(result)"
   ]
  },
  {
   "cell_type": "code",
   "execution_count": 7,
   "id": "5aba2882453a7fa4",
   "metadata": {
    "ExecuteTime": {
     "end_time": "2024-07-05T11:14:22.805072400Z",
     "start_time": "2024-07-05T11:14:22.725005800Z"
    },
    "collapsed": false
   },
   "outputs": [
    {
     "data": {
      "text/plain": [
       "dict_keys(['tifa_score', 'question_details'])"
      ]
     },
     "execution_count": 7,
     "metadata": {},
     "output_type": "execute_result"
    }
   ],
   "source": [
    "result.keys()"
   ]
  },
  {
   "cell_type": "markdown",
   "id": "c00c5cd4027b793e",
   "metadata": {
    "collapsed": false
   },
   "source": [
    "## Load the generated Llama questions and filter them "
   ]
  },
  {
   "cell_type": "code",
   "execution_count": 3,
   "id": "8270902e86f03a65",
   "metadata": {
    "ExecuteTime": {
     "end_time": "2024-07-09T07:42:48.240657200Z",
     "start_time": "2024-07-09T07:42:48.045497800Z"
    },
    "collapsed": false
   },
   "outputs": [
    {
     "data": {
      "text/html": [
       "<div>\n",
       "<style scoped>\n",
       "    .dataframe tbody tr th:only-of-type {\n",
       "        vertical-align: middle;\n",
       "    }\n",
       "\n",
       "    .dataframe tbody tr th {\n",
       "        vertical-align: top;\n",
       "    }\n",
       "\n",
       "    .dataframe thead th {\n",
       "        text-align: right;\n",
       "    }\n",
       "</style>\n",
       "<table border=\"1\" class=\"dataframe\">\n",
       "  <thead>\n",
       "    <tr style=\"text-align: right;\">\n",
       "      <th></th>\n",
       "      <th>name</th>\n",
       "      <th>description</th>\n",
       "      <th>llama2_questions</th>\n",
       "    </tr>\n",
       "  </thead>\n",
       "  <tbody>\n",
       "  </tbody>\n",
       "</table>\n",
       "</div>"
      ],
      "text/plain": [
       "Empty DataFrame\n",
       "Columns: [name, description, llama2_questions]\n",
       "Index: []"
      ]
     },
     "execution_count": 3,
     "metadata": {},
     "output_type": "execute_result"
    }
   ],
   "source": [
    "import pandas as pd\n",
    "from tqdm import tqdm\n",
    "\n",
    "ls_bilder = pd.read_csv(\"sampled_data_fixed.csv\")\n",
    "tifa_meta = pd.DataFrame(columns=[\"name\", \"description\", \"llama2_questions\"])\n",
    "tifa_meta"
   ]
  },
  {
   "cell_type": "code",
   "execution_count": 4,
   "id": "3b5ee88c6cb74c43",
   "metadata": {
    "ExecuteTime": {
     "end_time": "2024-07-09T07:42:49.457828800Z",
     "start_time": "2024-07-09T07:42:49.128830900Z"
    },
    "collapsed": false
   },
   "outputs": [
    {
     "name": "stdout",
     "output_type": "stream",
     "text": [
      "[{'caption': 'This is a chronic condition in women where the uterine lining grows outside the uterine cavity and inflammation occurs. In the picture: A woman is depicted naked. Her ovaries, uterus, and lungs are marked. The organs show signs of inflammation.', 'element': 'woman', 'question': 'who is depicted naked?', 'choices': ['woman', 'man', 'boy', 'girl'], 'answer': 'woman', 'element_type': 'animal/human'}, {'caption': 'This is a chronic condition in women where the uterine lining grows outside the uterine cavity and inflammation occurs. In the picture: A woman is depicted naked. Her ovaries, uterus, and lungs are marked. The organs show signs of inflammation.', 'element': 'uterine lining', 'question': 'is there a uterine lining?', 'choices': ['yes', 'no'], 'answer': 'yes', 'element_type': 'object'}, {'caption': 'This is a chronic condition in women where the uterine lining grows outside the uterine cavity and inflammation occurs. In the picture: A woman is depicted naked. Her ovaries, uterus, and lungs are marked. The organs show signs of inflammation.', 'element': 'uterine lining', 'question': 'what is growing outside the uterine cavity?', 'choices': ['uterine lining', 'uterus', 'ovaries', 'lungs'], 'answer': 'uterine lining', 'element_type': 'object'}, {'caption': 'This is a chronic condition in women where the uterine lining grows outside the uterine cavity and inflammation occurs. In the picture: A woman is depicted naked. Her ovaries, uterus, and lungs are marked. The organs show signs of inflammation.', 'element': 'uterine cavity', 'question': 'is there a uterine cavity?', 'choices': ['yes', 'no'], 'answer': 'yes', 'element_type': 'object'}, {'caption': 'This is a chronic condition in women where the uterine lining grows outside the uterine cavity and inflammation occurs. In the picture: A woman is depicted naked. Her ovaries, uterus, and lungs are marked. The organs show signs of inflammation.', 'element': 'uterine cavity', 'question': 'what is the uterine lining growing inside of?', 'choices': ['uterine cavity', 'uterus', 'ovaries', 'lungs'], 'answer': 'uterine cavity', 'element_type': 'object'}, {'caption': 'This is a chronic condition in women where the uterine lining grows outside the uterine cavity and inflammation occurs. In the picture: A woman is depicted naked. Her ovaries, uterus, and lungs are marked. The organs show signs of inflammation.', 'element': 'ovaries', 'question': 'are there ovaries?', 'choices': ['yes', 'no'], 'answer': 'yes', 'element_type': 'object'}]\n"
     ]
    }
   ],
   "source": [
    "import ast\n",
    "\n",
    "with open(\"tifa_scores_llama2_questions.txt\", \"r\") as f:\n",
    "    questions = f.readlines()\n",
    "#\" \".join([q.strip() for q in questions])\n",
    "llama2_questions = ast.literal_eval(\" \".join([q.strip() for q in questions]))\n",
    "print(llama2_questions[0])"
   ]
  },
  {
   "cell_type": "code",
   "execution_count": 5,
   "id": "26fccb66fa93126c",
   "metadata": {
    "ExecuteTime": {
     "end_time": "2024-07-09T07:42:57.554417500Z",
     "start_time": "2024-07-09T07:42:57.400679400Z"
    },
    "collapsed": false
   },
   "outputs": [
    {
     "data": {
      "text/html": [
       "<div>\n",
       "<style scoped>\n",
       "    .dataframe tbody tr th:only-of-type {\n",
       "        vertical-align: middle;\n",
       "    }\n",
       "\n",
       "    .dataframe tbody tr th {\n",
       "        vertical-align: top;\n",
       "    }\n",
       "\n",
       "    .dataframe thead th {\n",
       "        text-align: right;\n",
       "    }\n",
       "</style>\n",
       "<table border=\"1\" class=\"dataframe\">\n",
       "  <thead>\n",
       "    <tr style=\"text-align: right;\">\n",
       "      <th></th>\n",
       "      <th>name</th>\n",
       "      <th>description</th>\n",
       "      <th>llama2_questions</th>\n",
       "    </tr>\n",
       "  </thead>\n",
       "  <tbody>\n",
       "    <tr>\n",
       "      <th>0</th>\n",
       "      <td>Endometriosis</td>\n",
       "      <td>This is a chronic condition in women where the...</td>\n",
       "      <td>[{'caption': 'This is a chronic condition in w...</td>\n",
       "    </tr>\n",
       "    <tr>\n",
       "      <th>1</th>\n",
       "      <td>Exchange on the Internet</td>\n",
       "      <td>In the middle, there is a globe depicted. Arou...</td>\n",
       "      <td>[{'caption': 'In the middle, there is a globe ...</td>\n",
       "    </tr>\n",
       "    <tr>\n",
       "      <th>2</th>\n",
       "      <td>Despair</td>\n",
       "      <td>A woman covers her face with both hands. She c...</td>\n",
       "      <td>[{'caption': 'A woman covers her face with bot...</td>\n",
       "    </tr>\n",
       "    <tr>\n",
       "      <th>3</th>\n",
       "      <td>Long Cane</td>\n",
       "      <td>An image of a long cane, unfolded and folded.</td>\n",
       "      <td>[{'caption': 'An image of a long cane, unfolde...</td>\n",
       "    </tr>\n",
       "    <tr>\n",
       "      <th>4</th>\n",
       "      <td>Induction Loop</td>\n",
       "      <td>The picture shows three people at a table. A l...</td>\n",
       "      <td>[{'caption': 'The picture shows three people a...</td>\n",
       "    </tr>\n",
       "    <tr>\n",
       "      <th>...</th>\n",
       "      <td>...</td>\n",
       "      <td>...</td>\n",
       "      <td>...</td>\n",
       "    </tr>\n",
       "    <tr>\n",
       "      <th>75</th>\n",
       "      <td>Difficulty Concentrating</td>\n",
       "      <td>A man ties his sports shoes. He has several th...</td>\n",
       "      <td>[{'caption': 'A man ties his sports shoes. He ...</td>\n",
       "    </tr>\n",
       "    <tr>\n",
       "      <th>76</th>\n",
       "      <td>Empathy</td>\n",
       "      <td>A woman puts a comforting hand on a man's shou...</td>\n",
       "      <td>[{'caption': 'A woman puts a comforting hand o...</td>\n",
       "    </tr>\n",
       "    <tr>\n",
       "      <th>77</th>\n",
       "      <td>Poor Memory Performance</td>\n",
       "      <td>A woman holds her forehead thoughtfully. Quest...</td>\n",
       "      <td>[{'caption': 'A woman holds her forehead thoug...</td>\n",
       "    </tr>\n",
       "    <tr>\n",
       "      <th>78</th>\n",
       "      <td>Being Deaf</td>\n",
       "      <td>Depicted are two persons facing each other. On...</td>\n",
       "      <td>[{'caption': 'Depicted are two persons facing ...</td>\n",
       "    </tr>\n",
       "    <tr>\n",
       "      <th>79</th>\n",
       "      <td>Being Blind</td>\n",
       "      <td>Depicted is a man holding a long cane in his h...</td>\n",
       "      <td>[{'caption': 'Depicted is a man holding a long...</td>\n",
       "    </tr>\n",
       "  </tbody>\n",
       "</table>\n",
       "<p>80 rows × 3 columns</p>\n",
       "</div>"
      ],
      "text/plain": [
       "                        name  \\\n",
       "0              Endometriosis   \n",
       "1   Exchange on the Internet   \n",
       "2                    Despair   \n",
       "3                  Long Cane   \n",
       "4             Induction Loop   \n",
       "..                       ...   \n",
       "75  Difficulty Concentrating   \n",
       "76                   Empathy   \n",
       "77   Poor Memory Performance   \n",
       "78                Being Deaf   \n",
       "79               Being Blind   \n",
       "\n",
       "                                          description  \\\n",
       "0   This is a chronic condition in women where the...   \n",
       "1   In the middle, there is a globe depicted. Arou...   \n",
       "2   A woman covers her face with both hands. She c...   \n",
       "3       An image of a long cane, unfolded and folded.   \n",
       "4   The picture shows three people at a table. A l...   \n",
       "..                                                ...   \n",
       "75  A man ties his sports shoes. He has several th...   \n",
       "76  A woman puts a comforting hand on a man's shou...   \n",
       "77  A woman holds her forehead thoughtfully. Quest...   \n",
       "78  Depicted are two persons facing each other. On...   \n",
       "79  Depicted is a man holding a long cane in his h...   \n",
       "\n",
       "                                     llama2_questions  \n",
       "0   [{'caption': 'This is a chronic condition in w...  \n",
       "1   [{'caption': 'In the middle, there is a globe ...  \n",
       "2   [{'caption': 'A woman covers her face with bot...  \n",
       "3   [{'caption': 'An image of a long cane, unfolde...  \n",
       "4   [{'caption': 'The picture shows three people a...  \n",
       "..                                                ...  \n",
       "75  [{'caption': 'A man ties his sports shoes. He ...  \n",
       "76  [{'caption': 'A woman puts a comforting hand o...  \n",
       "77  [{'caption': 'A woman holds her forehead thoug...  \n",
       "78  [{'caption': 'Depicted are two persons facing ...  \n",
       "79  [{'caption': 'Depicted is a man holding a long...  \n",
       "\n",
       "[80 rows x 3 columns]"
      ]
     },
     "execution_count": 5,
     "metadata": {},
     "output_type": "execute_result"
    }
   ],
   "source": [
    "for question in llama2_questions:\n",
    "    caption = question[0]['caption']\n",
    "    ls_data = ls_bilder[ls_bilder.english_description == caption]\n",
    "    entry = pd.DataFrame.from_dict({\"name\": ls_data[\"english_name\"], \"description\": caption, \"llama2_questions\": [question]})\n",
    "    tifa_meta = pd.concat([tifa_meta, entry], ignore_index=True)\n",
    "tifa_meta"
   ]
  },
  {
   "cell_type": "code",
   "execution_count": 7,
   "id": "e8badf5fccd0b970",
   "metadata": {
    "ExecuteTime": {
     "end_time": "2024-07-09T07:49:59.018733200Z",
     "start_time": "2024-07-09T07:47:50.300330800Z"
    },
    "collapsed": false
   },
   "outputs": [
    {
     "name": "stderr",
     "output_type": "stream",
     "text": [
      "100%|██████████| 80/80 [02:08<00:00,  1.61s/it]\n"
     ]
    },
    {
     "data": {
      "text/html": [
       "<div>\n",
       "<style scoped>\n",
       "    .dataframe tbody tr th:only-of-type {\n",
       "        vertical-align: middle;\n",
       "    }\n",
       "\n",
       "    .dataframe tbody tr th {\n",
       "        vertical-align: top;\n",
       "    }\n",
       "\n",
       "    .dataframe thead th {\n",
       "        text-align: right;\n",
       "    }\n",
       "</style>\n",
       "<table border=\"1\" class=\"dataframe\">\n",
       "  <thead>\n",
       "    <tr style=\"text-align: right;\">\n",
       "      <th></th>\n",
       "      <th>name</th>\n",
       "      <th>description</th>\n",
       "      <th>llama2_questions</th>\n",
       "      <th>filtered_questions</th>\n",
       "    </tr>\n",
       "  </thead>\n",
       "  <tbody>\n",
       "    <tr>\n",
       "      <th>0</th>\n",
       "      <td>Endometriosis</td>\n",
       "      <td>This is a chronic condition in women where the...</td>\n",
       "      <td>[{'caption': 'This is a chronic condition in w...</td>\n",
       "      <td>[[{'caption': 'This is a chronic condition in ...</td>\n",
       "    </tr>\n",
       "    <tr>\n",
       "      <th>1</th>\n",
       "      <td>Exchange on the Internet</td>\n",
       "      <td>In the middle, there is a globe depicted. Arou...</td>\n",
       "      <td>[{'caption': 'In the middle, there is a globe ...</td>\n",
       "      <td>[[{'caption': 'In the middle, there is a globe...</td>\n",
       "    </tr>\n",
       "    <tr>\n",
       "      <th>2</th>\n",
       "      <td>Despair</td>\n",
       "      <td>A woman covers her face with both hands. She c...</td>\n",
       "      <td>[{'caption': 'A woman covers her face with bot...</td>\n",
       "      <td>[[{'caption': 'A woman covers her face with bo...</td>\n",
       "    </tr>\n",
       "    <tr>\n",
       "      <th>3</th>\n",
       "      <td>Long Cane</td>\n",
       "      <td>An image of a long cane, unfolded and folded.</td>\n",
       "      <td>[{'caption': 'An image of a long cane, unfolde...</td>\n",
       "      <td>[[{'caption': 'An image of a long cane, unfold...</td>\n",
       "    </tr>\n",
       "    <tr>\n",
       "      <th>4</th>\n",
       "      <td>Induction Loop</td>\n",
       "      <td>The picture shows three people at a table. A l...</td>\n",
       "      <td>[{'caption': 'The picture shows three people a...</td>\n",
       "      <td>[[{'caption': 'The picture shows three people ...</td>\n",
       "    </tr>\n",
       "    <tr>\n",
       "      <th>...</th>\n",
       "      <td>...</td>\n",
       "      <td>...</td>\n",
       "      <td>...</td>\n",
       "      <td>...</td>\n",
       "    </tr>\n",
       "    <tr>\n",
       "      <th>75</th>\n",
       "      <td>Difficulty Concentrating</td>\n",
       "      <td>A man ties his sports shoes. He has several th...</td>\n",
       "      <td>[{'caption': 'A man ties his sports shoes. He ...</td>\n",
       "      <td>[[{'caption': 'A man ties his sports shoes. He...</td>\n",
       "    </tr>\n",
       "    <tr>\n",
       "      <th>76</th>\n",
       "      <td>Empathy</td>\n",
       "      <td>A woman puts a comforting hand on a man's shou...</td>\n",
       "      <td>[{'caption': 'A woman puts a comforting hand o...</td>\n",
       "      <td>[[{'caption': 'A woman puts a comforting hand ...</td>\n",
       "    </tr>\n",
       "    <tr>\n",
       "      <th>77</th>\n",
       "      <td>Poor Memory Performance</td>\n",
       "      <td>A woman holds her forehead thoughtfully. Quest...</td>\n",
       "      <td>[{'caption': 'A woman holds her forehead thoug...</td>\n",
       "      <td>[[{'caption': 'A woman holds her forehead thou...</td>\n",
       "    </tr>\n",
       "    <tr>\n",
       "      <th>78</th>\n",
       "      <td>Being Deaf</td>\n",
       "      <td>Depicted are two persons facing each other. On...</td>\n",
       "      <td>[{'caption': 'Depicted are two persons facing ...</td>\n",
       "      <td>[[{'caption': 'Depicted are two persons facing...</td>\n",
       "    </tr>\n",
       "    <tr>\n",
       "      <th>79</th>\n",
       "      <td>Being Blind</td>\n",
       "      <td>Depicted is a man holding a long cane in his h...</td>\n",
       "      <td>[{'caption': 'Depicted is a man holding a long...</td>\n",
       "      <td>[[{'caption': 'Depicted is a man holding a lon...</td>\n",
       "    </tr>\n",
       "  </tbody>\n",
       "</table>\n",
       "<p>80 rows × 4 columns</p>\n",
       "</div>"
      ],
      "text/plain": [
       "                        name  \\\n",
       "0              Endometriosis   \n",
       "1   Exchange on the Internet   \n",
       "2                    Despair   \n",
       "3                  Long Cane   \n",
       "4             Induction Loop   \n",
       "..                       ...   \n",
       "75  Difficulty Concentrating   \n",
       "76                   Empathy   \n",
       "77   Poor Memory Performance   \n",
       "78                Being Deaf   \n",
       "79               Being Blind   \n",
       "\n",
       "                                          description  \\\n",
       "0   This is a chronic condition in women where the...   \n",
       "1   In the middle, there is a globe depicted. Arou...   \n",
       "2   A woman covers her face with both hands. She c...   \n",
       "3       An image of a long cane, unfolded and folded.   \n",
       "4   The picture shows three people at a table. A l...   \n",
       "..                                                ...   \n",
       "75  A man ties his sports shoes. He has several th...   \n",
       "76  A woman puts a comforting hand on a man's shou...   \n",
       "77  A woman holds her forehead thoughtfully. Quest...   \n",
       "78  Depicted are two persons facing each other. On...   \n",
       "79  Depicted is a man holding a long cane in his h...   \n",
       "\n",
       "                                     llama2_questions  \\\n",
       "0   [{'caption': 'This is a chronic condition in w...   \n",
       "1   [{'caption': 'In the middle, there is a globe ...   \n",
       "2   [{'caption': 'A woman covers her face with bot...   \n",
       "3   [{'caption': 'An image of a long cane, unfolde...   \n",
       "4   [{'caption': 'The picture shows three people a...   \n",
       "..                                                ...   \n",
       "75  [{'caption': 'A man ties his sports shoes. He ...   \n",
       "76  [{'caption': 'A woman puts a comforting hand o...   \n",
       "77  [{'caption': 'A woman holds her forehead thoug...   \n",
       "78  [{'caption': 'Depicted are two persons facing ...   \n",
       "79  [{'caption': 'Depicted is a man holding a long...   \n",
       "\n",
       "                                   filtered_questions  \n",
       "0   [[{'caption': 'This is a chronic condition in ...  \n",
       "1   [[{'caption': 'In the middle, there is a globe...  \n",
       "2   [[{'caption': 'A woman covers her face with bo...  \n",
       "3   [[{'caption': 'An image of a long cane, unfold...  \n",
       "4   [[{'caption': 'The picture shows three people ...  \n",
       "..                                                ...  \n",
       "75  [[{'caption': 'A man ties his sports shoes. He...  \n",
       "76  [[{'caption': 'A woman puts a comforting hand ...  \n",
       "77  [[{'caption': 'A woman holds her forehead thou...  \n",
       "78  [[{'caption': 'Depicted are two persons facing...  \n",
       "79  [[{'caption': 'Depicted is a man holding a lon...  \n",
       "\n",
       "[80 rows x 4 columns]"
      ]
     },
     "execution_count": 7,
     "metadata": {},
     "output_type": "execute_result"
    }
   ],
   "source": [
    "from tifascore import filter_question_and_answers, UnifiedQAModel\n",
    "\n",
    "#unifiedqa_model = UnifiedQAModel(\"allenai/unifiedqa-v2-t5-large-1363200\")\n",
    "\n",
    "for i, row in tqdm(tifa_meta.iterrows(), total=len(tifa_meta)):\n",
    "    filtered_questions = filter_question_and_answers(unifiedqa_model, row[\"llama2_questions\"])\n",
    "    tifa_meta.at[i, \"filtered_questions\"] = [filtered_questions]\n",
    "tifa_meta[\"filtered_questions\"] = tifa_meta[\"filtered_questions\"].apply(lambda x: x[0])\n",
    "tifa_meta"
   ]
  },
  {
   "cell_type": "code",
   "execution_count": 11,
   "id": "fd20bddd0572a6e9",
   "metadata": {
    "ExecuteTime": {
     "end_time": "2024-07-09T07:53:57.884224900Z",
     "start_time": "2024-07-09T07:53:57.823619600Z"
    },
    "collapsed": false
   },
   "outputs": [],
   "source": [
    "tifa_meta.to_csv(\"tifa_metadata.csv\", index=False)"
   ]
  },
  {
   "cell_type": "markdown",
   "id": "2363dec0151f3e5c",
   "metadata": {
    "collapsed": false
   },
   "source": [
    "## Evaluate the Tifa scores"
   ]
  },
  {
   "cell_type": "code",
   "execution_count": 1,
   "id": "5b7395ca6431e00e",
   "metadata": {
    "ExecuteTime": {
     "end_time": "2024-07-15T19:17:13.794220900Z",
     "start_time": "2024-07-15T19:17:13.531213700Z"
    },
    "collapsed": false
   },
   "outputs": [
    {
     "data": {
      "text/plain": [
       "model\n",
       "DALLE-3       0.734617\n",
       "Midjourney    0.773151\n",
       "SD1_4         0.620149\n",
       "SD2_1_base    0.699165\n",
       "Wuerstchen    0.670497\n",
       "artbreeder    0.708459\n",
       "references    0.771816\n",
       "Name: tifa_score, dtype: float64"
      ]
     },
     "execution_count": 1,
     "metadata": {},
     "output_type": "execute_result"
    }
   ],
   "source": [
    "import pandas as pd\n",
    "\n",
    "tifa_scores = pd.read_csv(\"tifa_scores_blip.csv\")\n",
    "tifa_scores.groupby([\"model\"])[\"tifa_score\"].mean()"
   ]
  },
  {
   "cell_type": "code",
   "execution_count": 1,
   "id": "6705b47db1078702",
   "metadata": {
    "collapsed": false,
    "ExecuteTime": {
     "end_time": "2024-07-26T06:47:12.481858Z",
     "start_time": "2024-07-26T06:47:12.394860700Z"
    }
   },
   "outputs": [
    {
     "data": {
      "text/plain": "model\nDALLE-3       0.748720\nMidjourney    0.782493\nSD1_4         0.582517\nSD2_1_base    0.683051\nSD_3          0.780986\nWuerstchen    0.646882\nartbreeder    0.702576\nreferences    0.842083\nName: tifa_score, dtype: float64"
     },
     "execution_count": 1,
     "metadata": {},
     "output_type": "execute_result"
    }
   ],
   "source": [
    "import pandas as pd\n",
    "\n",
    "tifa_scores_mplug = pd.read_csv(\"tifa_scores_mplug.csv\")\n",
    "tifa_scores_mplug.groupby([\"model\"])[\"tifa_score\"].mean()"
   ]
  },
  {
   "cell_type": "code",
   "execution_count": 1,
   "id": "ecdfbf3346e615bb",
   "metadata": {
    "collapsed": false,
    "ExecuteTime": {
     "end_time": "2024-07-18T12:43:28.177013500Z",
     "start_time": "2024-07-18T12:43:27.581467300Z"
    }
   },
   "outputs": [
    {
     "data": {
      "text/plain": "model\nDALLE-3       0.671098\nMidjourney    0.694562\nSD1_4         0.504959\nSD2_1_base    0.587815\nSD_3          0.701389\nWuerstchen    0.577205\nartbreeder    0.635838\nreferences    0.702067\nName: tifa_score, dtype: float64"
     },
     "execution_count": 1,
     "metadata": {},
     "output_type": "execute_result"
    }
   ],
   "source": [
    "import pandas as pd\n",
    "\n",
    "tifa_scores = pd.read_csv(\"tifa_scores_git.csv\")\n",
    "tifa_scores.groupby([\"model\"])[\"tifa_score\"].mean()"
   ]
  },
  {
   "cell_type": "code",
   "execution_count": 2,
   "outputs": [],
   "source": [
    "import ast\n",
    "from statistics import mean\n",
    "\n",
    "tifa_humans = []\n",
    "tifa_elses = []\n",
    "tifa_alls = []\n",
    "tifa_official = []\n",
    "for _, row in tifa_scores_mplug.iterrows():\n",
    "    tifa_human = 0.0\n",
    "    tifa_else = 0.0\n",
    "    tifa_all = []\n",
    "    if row[\"question_details\"] ==  \"{'all_black': True}\":\n",
    "        num_questions = 1\n",
    "        tifa_alls.append(0.0)\n",
    "    else:\n",
    "        question_details = ast.literal_eval(row[\"question_details\"])\n",
    "        for _, question_detail in question_details.items():\n",
    "            tifa_all.append(question_detail[\"scores\"])\n",
    "            if question_detail[\"element_type\"] == \"animal/human\":\n",
    "                tifa_human += question_detail[\"scores\"]\n",
    "            else: \n",
    "                tifa_else += question_detail[\"scores\"]\n",
    "        num_questions = len(question_details)\n",
    "        tifa_alls.append(mean(tifa_all))\n",
    "    tifa_humans.append(tifa_human / num_questions)\n",
    "    tifa_elses.append(tifa_else / num_questions)\n",
    "    tifa_official.append(row[\"tifa_score\"])"
   ],
   "metadata": {
    "collapsed": false,
    "ExecuteTime": {
     "end_time": "2024-07-26T06:47:46.373973300Z",
     "start_time": "2024-07-26T06:47:44.959969900Z"
    }
   },
   "id": "de3f2c42bf4460b"
  },
  {
   "cell_type": "code",
   "execution_count": 5,
   "outputs": [
    {
     "data": {
      "text/plain": "[0.0,\n 0.0,\n 0.0,\n 0.0,\n 0.0,\n 0.0,\n 0.0,\n 0.0,\n 0.0,\n 0.0,\n 0.0,\n 0.0,\n 0.0,\n 0.0,\n 0.0,\n 0.0,\n 0.0,\n 0.0,\n 0.0,\n 0.0,\n 0.0,\n 0.0,\n 0.0,\n 0.0,\n 0.0,\n 0.0,\n 0.0,\n 0.0,\n 0.0,\n 0.0,\n 0.0,\n 0.0,\n 0.0,\n 0.0,\n 0.0,\n 5.551115123125783e-17,\n 0.0,\n 0.0,\n 0.0,\n 0.0,\n 0.0,\n 0.0,\n 0.0,\n 0.0,\n 0.0,\n 0.0,\n 0.0,\n 0.0,\n 0.0,\n 0.0,\n 0.0,\n 0.0,\n 0.0,\n 0.0,\n 0.0,\n 0.0,\n 0.0,\n 0.0,\n 0.0,\n 0.0,\n 0.0,\n 0.0,\n 0.0,\n 0.0,\n 0.0,\n 0.0,\n 0.0,\n 0.0,\n 0.0,\n 0.0,\n 0.0,\n 0.0,\n 0.0,\n 0.0,\n 0.0,\n 0.0,\n 0.0,\n 0.0,\n 0.0,\n 0.0,\n 0.0,\n 0.0,\n 0.0,\n 0.0,\n 0.0,\n 0.0,\n 0.0,\n 0.0,\n 0.0,\n 0.0,\n 0.0,\n 0.0,\n 0.0,\n 0.0,\n 0.0,\n 0.0,\n 0.0,\n 0.0,\n 0.0,\n 0.0,\n 0.0,\n 0.0,\n 0.0,\n 0.0,\n 0.0,\n 0.0,\n 0.0,\n 0.0,\n 0.0,\n 0.0,\n 0.0,\n 0.0,\n 0.0,\n 0.0,\n 0.0,\n 0.0,\n 0.0,\n 5.551115123125783e-17,\n 5.551115123125783e-17,\n 0.0,\n 0.0,\n 0.0,\n 0.0,\n 0.0,\n 0.0,\n 0.0,\n 0.0,\n 0.0,\n 0.0,\n 0.0,\n 0.0,\n 0.0,\n 0.0,\n 0.0,\n 0.0,\n 0.0,\n 0.0,\n 0.0,\n 0.0,\n 0.0,\n 0.0,\n 0.0,\n 0.0,\n 0.0,\n 0.0,\n 0.0,\n 0.0,\n 0.0,\n 0.0,\n 0.0,\n 0.0,\n 0.0,\n 0.0,\n 0.0,\n 0.0,\n 0.0,\n 0.0,\n 0.0,\n 0.0,\n 0.0,\n 0.0,\n 0.0,\n 0.0,\n 0.0,\n 0.0,\n 0.0,\n 0.0,\n 0.0,\n 0.0,\n 0.0,\n 0.0,\n 0.0,\n 0.0,\n 0.0,\n 0.0,\n 0.0,\n 0.0,\n 0.0,\n 0.0,\n 0.0,\n 0.0,\n 0.0,\n 0.0,\n 0.0,\n 0.0,\n 0.0,\n 0.0,\n 0.0,\n 0.0,\n 0.0,\n 0.0,\n 0.0,\n 0.0,\n 0.0,\n 0.0,\n 0.0,\n 0.0,\n 0.0,\n 0.0,\n 0.0,\n 0.0,\n 0.0,\n 0.0,\n 0.0,\n 0.0,\n 0.0,\n 0.0,\n 0.0,\n 0.0,\n 0.0,\n 0.0,\n 0.0,\n 0.0,\n 0.0,\n 0.0,\n 0.0,\n 0.0,\n 0.0,\n 0.0,\n 0.0,\n 0.0,\n 0.0,\n 0.0,\n 0.0,\n 0.0,\n 0.0,\n 0.0,\n 0.0,\n 0.0,\n 0.0,\n 0.0,\n 0.0,\n 0.0,\n 0.0,\n 0.0,\n 0.0,\n 0.0,\n 0.0,\n 0.0,\n 0.0,\n 0.0,\n 0.0,\n 0.0,\n 0.0,\n 0.0,\n 0.0,\n 0.0,\n 0.0,\n 0.0,\n 0.0,\n 0.0,\n 0.0,\n 0.0,\n 0.0,\n 0.0,\n 0.0,\n 0.0,\n 0.0,\n 0.0,\n 0.0,\n 0.0,\n 0.0,\n 0.0,\n 0.0,\n 0.0,\n 0.0,\n 0.0,\n 0.0,\n 0.0,\n 0.0,\n 0.0,\n 0.0,\n 0.0,\n 0.0,\n 0.0,\n 0.0,\n 0.0,\n 0.0,\n 0.0,\n 0.0,\n 0.0,\n 0.0,\n 0.0,\n 0.0,\n 0.0,\n 0.0,\n 0.0,\n 0.0,\n 0.0,\n 0.0,\n 0.0,\n 0.0,\n 0.0,\n 0.0,\n 0.0,\n 0.0,\n 0.0,\n 0.0,\n 0.0,\n 0.0,\n 0.0,\n 0.0,\n 0.0,\n 0.0,\n 0.0,\n 0.0,\n 0.0,\n 0.0,\n 0.0,\n 0.0,\n 0.0,\n 0.0,\n 0.0,\n 0.0,\n 0.0,\n 0.0,\n 0.0,\n 0.0,\n 0.0,\n 0.0,\n 0.0,\n 0.0,\n 0.0,\n 0.0,\n 0.0,\n 0.0,\n 0.0,\n 0.0,\n 0.0,\n 0.0,\n 0.0,\n 0.0,\n 0.0,\n 0.0,\n 0.0,\n 0.0,\n 0.0,\n 0.0,\n 0.0,\n 0.0,\n 0.0,\n 0.0,\n 0.0,\n 0.0,\n 0.0,\n 0.0,\n 0.0,\n 0.0,\n 0.0,\n 0.0,\n 0.0,\n 0.0,\n 0.0,\n 0.0,\n 0.0,\n 0.0,\n 0.0,\n 0.0,\n 0.0,\n 0.0,\n 0.0,\n 0.0,\n 0.0,\n 0.0,\n 0.0,\n 0.0,\n 0.0,\n 0.0,\n 0.0,\n 0.0,\n 0.0,\n 0.0,\n 0.0,\n 0.0,\n 0.0,\n 0.0,\n 0.0,\n 0.0,\n 0.0,\n 0.0,\n 0.0,\n 0.0,\n 0.0,\n 0.0,\n 0.0,\n 0.0,\n 0.0,\n 0.0,\n 0.0,\n 0.0,\n 5.551115123125783e-17,\n 0.0,\n 0.0,\n 0.0,\n 0.0,\n 0.0,\n 0.0,\n 0.0,\n 0.0,\n 0.0,\n 0.0,\n 0.0,\n 0.0,\n 0.0,\n 0.0,\n 0.0,\n 0.0,\n 0.0,\n 0.0,\n 0.0,\n 0.0,\n 0.0,\n 0.0,\n 0.0,\n 0.0,\n 0.0,\n 0.0,\n 0.0,\n 0.0,\n 0.0,\n 0.0,\n 0.0,\n 0.0,\n 0.0,\n 0.0,\n 0.0,\n 0.0,\n 0.0,\n 0.0,\n 0.0,\n 0.0,\n 0.0,\n 0.0,\n 0.0,\n 0.0,\n 0.0,\n 0.0,\n 0.0,\n 0.0,\n 0.0,\n 0.0,\n 0.0,\n 0.0,\n 0.0,\n 0.0,\n 0.0,\n 0.0,\n 0.0,\n 0.0,\n 0.0,\n 0.0,\n 0.0,\n 0.0,\n 0.0,\n 0.0,\n 0.0,\n 0.0,\n 0.0,\n 0.0,\n 0.0,\n 0.0,\n 0.0,\n 0.0,\n 0.0,\n 0.0,\n 0.0,\n 0.0,\n 0.0,\n 0.0,\n 0.0,\n 0.0,\n 0.0,\n 0.0,\n 0.0,\n 0.0,\n 0.0,\n 0.0,\n 0.0,\n 0.0,\n 0.0,\n 0.0,\n 0.0,\n 0.0,\n 0.0,\n 0.0,\n 0.0,\n 0.0,\n 0.0,\n 0.0,\n 0.0,\n 0.0,\n 0.0,\n 0.0,\n 0.0,\n 0.0,\n 0.0,\n 0.0,\n 0.0,\n 0.0,\n 0.0,\n 0.0,\n 0.0,\n 0.0,\n 0.0,\n 0.0,\n 0.0,\n 0.0,\n 0.0,\n 0.0,\n 0.0,\n 0.0,\n 0.0,\n 0.0,\n 0.0,\n 0.0,\n 0.0,\n 0.0,\n 0.0,\n 0.0,\n 0.0,\n 0.0,\n 0.0,\n 0.0,\n 0.0,\n 0.0,\n 0.0,\n 0.0,\n 0.0,\n 0.0,\n 0.0,\n 0.0,\n 0.0,\n 0.0,\n 0.0,\n 0.0,\n 0.0,\n 0.0,\n 0.0,\n 0.0,\n 0.0,\n 0.0,\n 0.0,\n 0.0,\n 0.0,\n 0.0,\n 0.0,\n 0.0,\n 0.0,\n 0.0,\n 0.0,\n 0.0,\n 0.0,\n 0.0,\n 0.0,\n 0.0,\n 0.0,\n 0.0,\n 0.0,\n 0.0,\n 0.0,\n 0.0,\n 0.0,\n 0.0,\n 0.0,\n 0.0,\n 0.0,\n 0.0,\n 0.0,\n 0.0,\n 0.0,\n 0.0,\n 0.0,\n 0.0,\n 0.0,\n 0.0,\n 0.0,\n 0.0,\n 0.0,\n 0.0,\n 0.0,\n 0.0,\n 0.0,\n 0.0,\n 0.0,\n 0.0,\n 0.0,\n 0.0,\n 0.0,\n 0.0,\n 0.0,\n 0.0,\n 0.0,\n 0.0,\n 0.0,\n 0.0,\n 0.0,\n 0.0,\n 0.0,\n 0.0,\n 0.0,\n 0.0,\n 0.0,\n 0.0,\n 0.0,\n 0.0,\n 0.0,\n 0.0,\n 0.0,\n 0.0,\n 0.0,\n 0.0,\n 0.0,\n 0.0,\n 0.0,\n 0.0,\n 0.0,\n 0.0,\n 0.0,\n 0.0,\n 0.0,\n 0.0,\n 0.0,\n 0.0,\n 0.0,\n 0.0,\n 0.0,\n 0.0,\n 0.0,\n 0.0,\n 0.0,\n 0.0,\n 0.0,\n 0.0,\n 0.0,\n 0.0,\n 0.0,\n 0.0,\n 0.0,\n 0.0,\n 0.0,\n 5.551115123125783e-17,\n 0.0,\n 0.0,\n 0.0,\n 0.0,\n 0.0,\n 0.0,\n 0.0,\n 0.0,\n 0.0,\n 5.551115123125783e-17,\n 0.0,\n 0.0,\n 0.0,\n 0.0,\n 0.0,\n 0.0,\n 0.0,\n 0.0,\n 0.0,\n 0.0,\n 0.0,\n 0.0,\n 0.0,\n 0.0,\n 0.0,\n 0.0,\n 0.0,\n 0.0,\n 0.0,\n 0.0,\n 0.0,\n 0.0,\n 0.0,\n 0.0,\n 0.0,\n 0.0,\n 0.0,\n 0.0,\n 0.0,\n 0.0,\n 0.0,\n 0.0,\n 0.0,\n 0.0,\n 0.0,\n 0.0,\n 0.0,\n 0.0,\n 0.0,\n 0.0,\n 0.0,\n 0.0,\n 0.0,\n 0.0,\n 0.0,\n 0.0,\n 0.0,\n 0.0,\n 0.0,\n 0.0,\n 0.0,\n 0.0,\n 0.0,\n 0.0,\n 0.0,\n 0.0,\n 0.0,\n 0.0,\n 0.0,\n 0.0,\n 0.0,\n 0.0,\n 0.0,\n 0.0,\n 0.0,\n 0.0,\n 0.0,\n 0.0,\n 0.0,\n 0.0,\n 0.0,\n 0.0,\n 0.0,\n 0.0,\n 0.0,\n 0.0,\n 0.0,\n 0.0,\n 0.0,\n 0.0,\n 0.0,\n 0.0,\n 0.0,\n 0.0,\n 0.0,\n 0.0,\n 0.0,\n 0.0,\n 0.0,\n 0.0,\n 0.0,\n 0.0,\n 0.0,\n 5.551115123125783e-17,\n 0.0,\n 0.0,\n 0.0,\n 0.0,\n 0.0,\n 0.0,\n 0.0,\n 0.0,\n 0.0,\n 0.0,\n 0.0,\n 0.0,\n 0.0,\n 0.0,\n 0.0,\n 0.0,\n 0.0,\n 0.0,\n 5.551115123125783e-17,\n 0.0,\n 0.0,\n 0.0,\n 0.0,\n 0.0,\n 0.0,\n 0.0,\n 0.0,\n 0.0,\n 0.0,\n 0.0,\n 0.0,\n 0.0,\n 0.0,\n 0.0,\n 0.0,\n 5.551115123125783e-17,\n 0.0,\n 0.0,\n 0.0,\n 0.0,\n 0.0,\n 0.0,\n 0.0,\n 0.0,\n 0.0,\n 0.0,\n 0.0,\n 0.0,\n 0.0,\n 0.0,\n 0.0,\n 0.0,\n 0.0,\n 0.0,\n 0.0,\n 0.0,\n 0.0,\n 0.0,\n 0.0,\n 0.0,\n 0.0,\n 0.0,\n 0.0,\n 0.0,\n 0.0,\n 0.0,\n 0.0,\n 0.0,\n 0.0,\n 0.0,\n 0.0,\n 0.0,\n 0.0,\n 0.0,\n 0.0,\n 0.0,\n 0.0,\n 0.0,\n 0.0,\n 0.0,\n 0.0,\n 0.0,\n 0.0,\n 0.0,\n 0.0,\n 0.0,\n 0.0,\n 0.0,\n 0.0,\n 0.0,\n 0.0,\n 0.0,\n 0.0,\n 0.0,\n 0.0,\n 0.0,\n 0.0,\n 0.0,\n 0.0,\n 0.0,\n 0.0,\n 0.0,\n 0.0,\n 0.0,\n 0.0,\n 0.0,\n 0.0,\n 0.0,\n 0.0,\n 0.0,\n 0.0,\n 0.0,\n 0.0,\n 0.0,\n 0.0,\n 0.0,\n 0.0,\n 0.0,\n 0.0,\n 0.0,\n 0.0,\n 0.0,\n 0.0,\n 0.0,\n 0.0,\n 0.0,\n 0.0,\n 0.0,\n 0.0,\n 0.0,\n 0.0,\n 0.0,\n 0.0,\n 0.0,\n 0.0,\n 0.0,\n 0.0,\n 0.0,\n 0.0,\n 0.0,\n 5.551115123125783e-17,\n 0.0,\n 0.0,\n 0.0,\n 0.0,\n 0.0,\n 0.0,\n 0.0,\n 0.0,\n 0.0,\n 0.0,\n 0.0,\n 0.0,\n 0.0,\n 0.0,\n 0.0,\n 0.0,\n 0.0,\n 0.0,\n 0.0,\n 0.0,\n 0.0,\n 0.0,\n 0.0,\n 0.0,\n 0.0,\n 0.0,\n 0.0,\n 0.0,\n 5.551115123125783e-17,\n 0.0,\n 0.0,\n 0.0,\n 0.0,\n 0.0,\n 0.0,\n 0.0,\n 0.0,\n 0.0,\n 0.0,\n 0.0,\n 0.0,\n 0.0,\n 0.0,\n 0.0,\n 0.0,\n 0.0,\n 0.0,\n 0.0,\n 0.0,\n 0.0,\n 0.0,\n 0.0,\n 0.0,\n 0.0,\n 0.0,\n 0.0,\n 0.0,\n 0.0,\n 0.0,\n 0.0,\n 0.0,\n 0.0,\n 0.0,\n 0.0,\n 0.0,\n 0.0,\n 0.0,\n 0.0,\n 0.0,\n 0.0,\n 0.0,\n 0.0,\n 0.0,\n 0.0,\n 0.0,\n 0.0,\n 0.0,\n 0.0,\n 0.0,\n 0.0,\n 0.0,\n 0.0,\n 0.0,\n 0.0,\n 5.551115123125783e-17,\n 5.551115123125783e-17,\n 5.551115123125783e-17,\n 0.0,\n 0.0,\n 0.0,\n 0.0,\n 0.0,\n 0.0,\n 0.0,\n 0.0,\n 0.0,\n 0.0,\n 0.0,\n 0.0,\n 0.0,\n 0.0,\n 0.0,\n 0.0,\n 0.0,\n 0.0,\n 0.0,\n 0.0,\n 0.0,\n 0.0,\n 0.0,\n 0.0,\n 0.0,\n 0.0,\n 0.0,\n ...]"
     },
     "execution_count": 5,
     "metadata": {},
     "output_type": "execute_result"
    }
   ],
   "source": [
    "[a - o for a, o in zip(tifa_alls, tifa_official)]"
   ],
   "metadata": {
    "collapsed": false,
    "ExecuteTime": {
     "end_time": "2024-07-26T06:48:28.278281600Z",
     "start_time": "2024-07-26T06:48:28.217991400Z"
    }
   },
   "id": "1c9a10c7901151c5"
  },
  {
   "cell_type": "markdown",
   "id": "e7c09ebcc89db662",
   "metadata": {
    "collapsed": false
   },
   "source": [
    "## Tifa element types"
   ]
  },
  {
   "cell_type": "code",
   "execution_count": 36,
   "id": "95a4d594e62db6cd",
   "metadata": {
    "collapsed": false,
    "ExecuteTime": {
     "end_time": "2024-07-30T13:20:10.187452600Z",
     "start_time": "2024-07-30T13:20:10.109593700Z"
    }
   },
   "outputs": [],
   "source": [
    "import pandas as pd\n",
    "import ast\n",
    "\n",
    "tifa_scores_mplug = pd.read_csv(\"tifa_scores_mplug.csv\")\n",
    "#tifa_scores_mplug = tifa_scores_mplug[tifa_scores_mplug.question_details != \"{'all_black': True}\"]\n",
    "#tifa_scores_mplug[\"question_details\"] = tifa_scores_mplug[\"question_details\"].apply(lambda x: ast.literal_eval(x)) "
   ]
  },
  {
   "cell_type": "code",
   "execution_count": 40,
   "outputs": [
    {
     "data": {
      "text/plain": "            name   id  description  tifa_score  question_details\nmodel                                                           \nDALLE-3      297  297          297         297               297\nMidjourney   320  320          320         320               320\nSD1_4        320  320          320         320               320\nSD2_1_base   320  320          320         320               320\nSD_3         320  320          320         320               320\nWuerstchen   320  320          320         320               320\nartbreeder   320  320          320         320               320\nreferences    80   80           80          80                80",
      "text/html": "<div>\n<style scoped>\n    .dataframe tbody tr th:only-of-type {\n        vertical-align: middle;\n    }\n\n    .dataframe tbody tr th {\n        vertical-align: top;\n    }\n\n    .dataframe thead th {\n        text-align: right;\n    }\n</style>\n<table border=\"1\" class=\"dataframe\">\n  <thead>\n    <tr style=\"text-align: right;\">\n      <th></th>\n      <th>name</th>\n      <th>id</th>\n      <th>description</th>\n      <th>tifa_score</th>\n      <th>question_details</th>\n    </tr>\n    <tr>\n      <th>model</th>\n      <th></th>\n      <th></th>\n      <th></th>\n      <th></th>\n      <th></th>\n    </tr>\n  </thead>\n  <tbody>\n    <tr>\n      <th>DALLE-3</th>\n      <td>297</td>\n      <td>297</td>\n      <td>297</td>\n      <td>297</td>\n      <td>297</td>\n    </tr>\n    <tr>\n      <th>Midjourney</th>\n      <td>320</td>\n      <td>320</td>\n      <td>320</td>\n      <td>320</td>\n      <td>320</td>\n    </tr>\n    <tr>\n      <th>SD1_4</th>\n      <td>320</td>\n      <td>320</td>\n      <td>320</td>\n      <td>320</td>\n      <td>320</td>\n    </tr>\n    <tr>\n      <th>SD2_1_base</th>\n      <td>320</td>\n      <td>320</td>\n      <td>320</td>\n      <td>320</td>\n      <td>320</td>\n    </tr>\n    <tr>\n      <th>SD_3</th>\n      <td>320</td>\n      <td>320</td>\n      <td>320</td>\n      <td>320</td>\n      <td>320</td>\n    </tr>\n    <tr>\n      <th>Wuerstchen</th>\n      <td>320</td>\n      <td>320</td>\n      <td>320</td>\n      <td>320</td>\n      <td>320</td>\n    </tr>\n    <tr>\n      <th>artbreeder</th>\n      <td>320</td>\n      <td>320</td>\n      <td>320</td>\n      <td>320</td>\n      <td>320</td>\n    </tr>\n    <tr>\n      <th>references</th>\n      <td>80</td>\n      <td>80</td>\n      <td>80</td>\n      <td>80</td>\n      <td>80</td>\n    </tr>\n  </tbody>\n</table>\n</div>"
     },
     "execution_count": 40,
     "metadata": {},
     "output_type": "execute_result"
    }
   ],
   "source": [
    "tifa_scores_mplug.groupby([\"model\"]).count()"
   ],
   "metadata": {
    "collapsed": false,
    "ExecuteTime": {
     "end_time": "2024-07-30T13:22:32.553055200Z",
     "start_time": "2024-07-30T13:22:32.505359Z"
    }
   },
   "id": "3bf8575fe9a4cf7d"
  },
  {
   "cell_type": "code",
   "execution_count": 41,
   "outputs": [
    {
     "data": {
      "text/plain": "                          name    model id  \\\n0                Endometriosis  DALLE-3  0   \n1                Endometriosis  DALLE-3  1   \n2                Endometriosis  DALLE-3  2   \n3                Endometriosis  DALLE-3  3   \n4     Exchange on the Internet  DALLE-3  0   \n...                        ...      ... ..   \n2292                Being Deaf     SD_3  3   \n2293               Being Blind     SD_3  0   \n2294               Being Blind     SD_3  1   \n2295               Being Blind     SD_3  2   \n2296               Being Blind     SD_3  3   \n\n                                            description  tifa_score  \\\n0     This is a chronic condition in women where the...        0.00   \n1     This is a chronic condition in women where the...        0.00   \n2     This is a chronic condition in women where the...        0.00   \n3     This is a chronic condition in women where the...        0.00   \n4     In the middle, there is a globe depicted. Arou...        1.00   \n...                                                 ...         ...   \n2292  Depicted are two persons facing each other. On...        0.80   \n2293  Depicted is a man holding a long cane in his h...        0.50   \n2294  Depicted is a man holding a long cane in his h...        0.50   \n2295  Depicted is a man holding a long cane in his h...        0.75   \n2296  Depicted is a man holding a long cane in his h...        0.50   \n\n                                       question_details  \n0                                   {'all_black': True}  \n1                                   {'all_black': True}  \n2                                   {'all_black': True}  \n3                                   {'all_black': True}  \n4     {'are there individuals depicted?': {'caption'...  \n...                                                 ...  \n2292  {'is one person communicating in sign language...  \n2293  {'is the man holding a cane?': {'caption': 'De...  \n2294  {'is the man holding a cane?': {'caption': 'De...  \n2295  {'is the man holding a cane?': {'caption': 'De...  \n2296  {'is the man holding a cane?': {'caption': 'De...  \n\n[2297 rows x 6 columns]",
      "text/html": "<div>\n<style scoped>\n    .dataframe tbody tr th:only-of-type {\n        vertical-align: middle;\n    }\n\n    .dataframe tbody tr th {\n        vertical-align: top;\n    }\n\n    .dataframe thead th {\n        text-align: right;\n    }\n</style>\n<table border=\"1\" class=\"dataframe\">\n  <thead>\n    <tr style=\"text-align: right;\">\n      <th></th>\n      <th>name</th>\n      <th>model</th>\n      <th>id</th>\n      <th>description</th>\n      <th>tifa_score</th>\n      <th>question_details</th>\n    </tr>\n  </thead>\n  <tbody>\n    <tr>\n      <th>0</th>\n      <td>Endometriosis</td>\n      <td>DALLE-3</td>\n      <td>0</td>\n      <td>This is a chronic condition in women where the...</td>\n      <td>0.00</td>\n      <td>{'all_black': True}</td>\n    </tr>\n    <tr>\n      <th>1</th>\n      <td>Endometriosis</td>\n      <td>DALLE-3</td>\n      <td>1</td>\n      <td>This is a chronic condition in women where the...</td>\n      <td>0.00</td>\n      <td>{'all_black': True}</td>\n    </tr>\n    <tr>\n      <th>2</th>\n      <td>Endometriosis</td>\n      <td>DALLE-3</td>\n      <td>2</td>\n      <td>This is a chronic condition in women where the...</td>\n      <td>0.00</td>\n      <td>{'all_black': True}</td>\n    </tr>\n    <tr>\n      <th>3</th>\n      <td>Endometriosis</td>\n      <td>DALLE-3</td>\n      <td>3</td>\n      <td>This is a chronic condition in women where the...</td>\n      <td>0.00</td>\n      <td>{'all_black': True}</td>\n    </tr>\n    <tr>\n      <th>4</th>\n      <td>Exchange on the Internet</td>\n      <td>DALLE-3</td>\n      <td>0</td>\n      <td>In the middle, there is a globe depicted. Arou...</td>\n      <td>1.00</td>\n      <td>{'are there individuals depicted?': {'caption'...</td>\n    </tr>\n    <tr>\n      <th>...</th>\n      <td>...</td>\n      <td>...</td>\n      <td>...</td>\n      <td>...</td>\n      <td>...</td>\n      <td>...</td>\n    </tr>\n    <tr>\n      <th>2292</th>\n      <td>Being Deaf</td>\n      <td>SD_3</td>\n      <td>3</td>\n      <td>Depicted are two persons facing each other. On...</td>\n      <td>0.80</td>\n      <td>{'is one person communicating in sign language...</td>\n    </tr>\n    <tr>\n      <th>2293</th>\n      <td>Being Blind</td>\n      <td>SD_3</td>\n      <td>0</td>\n      <td>Depicted is a man holding a long cane in his h...</td>\n      <td>0.50</td>\n      <td>{'is the man holding a cane?': {'caption': 'De...</td>\n    </tr>\n    <tr>\n      <th>2294</th>\n      <td>Being Blind</td>\n      <td>SD_3</td>\n      <td>1</td>\n      <td>Depicted is a man holding a long cane in his h...</td>\n      <td>0.50</td>\n      <td>{'is the man holding a cane?': {'caption': 'De...</td>\n    </tr>\n    <tr>\n      <th>2295</th>\n      <td>Being Blind</td>\n      <td>SD_3</td>\n      <td>2</td>\n      <td>Depicted is a man holding a long cane in his h...</td>\n      <td>0.75</td>\n      <td>{'is the man holding a cane?': {'caption': 'De...</td>\n    </tr>\n    <tr>\n      <th>2296</th>\n      <td>Being Blind</td>\n      <td>SD_3</td>\n      <td>3</td>\n      <td>Depicted is a man holding a long cane in his h...</td>\n      <td>0.50</td>\n      <td>{'is the man holding a cane?': {'caption': 'De...</td>\n    </tr>\n  </tbody>\n</table>\n<p>2297 rows × 6 columns</p>\n</div>"
     },
     "execution_count": 41,
     "metadata": {},
     "output_type": "execute_result"
    }
   ],
   "source": [
    "tifa_scores_mplug"
   ],
   "metadata": {
    "collapsed": false,
    "ExecuteTime": {
     "end_time": "2024-07-30T13:23:03.589163300Z",
     "start_time": "2024-07-30T13:23:03.516012900Z"
    }
   },
   "id": "746f287ee1ad5e3a"
  },
  {
   "cell_type": "code",
   "execution_count": 37,
   "outputs": [
    {
     "data": {
      "text/plain": "                                               name    model id  \\\n0                                     Endometriosis  DALLE-3  0   \n1                                     Endometriosis  DALLE-3  1   \n2                                     Endometriosis  DALLE-3  2   \n3                                     Endometriosis  DALLE-3  3   \n69                                  Digestive Tract  DALLE-3  0   \n70                                  Digestive Tract  DALLE-3  1   \n71                                  Digestive Tract  DALLE-3  2   \n72                                  Digestive Tract  DALLE-3  3   \n127                                     Colonoscopy  DALLE-3  0   \n128                                     Colonoscopy  DALLE-3  1   \n129                                     Colonoscopy  DALLE-3  2   \n130                                     Colonoscopy  DALLE-3  3   \n180                                 Foot Amputation  DALLE-3  0   \n181                                 Foot Amputation  DALLE-3  1   \n182                                 Foot Amputation  DALLE-3  2   \n183                                 Foot Amputation  DALLE-3  3   \n271                   Self-Help Group for Relatives  DALLE-3  0   \n272                   Self-Help Group for Relatives  DALLE-3  1   \n273                   Self-Help Group for Relatives  DALLE-3  2   \n274                   Self-Help Group for Relatives  DALLE-3  3   \n937                                   Endometriosis    SD1_4  0   \n938                                   Endometriosis    SD1_4  1   \n939                                   Endometriosis    SD1_4  2   \n940                                   Endometriosis    SD1_4  3   \n950                                       Long Cane    SD1_4  1   \n952                                       Long Cane    SD1_4  3   \n977                                      MS Episode    SD1_4  0   \n978                                      MS Episode    SD1_4  1   \n979                                      MS Episode    SD1_4  2   \n980                                      MS Episode    SD1_4  3   \n984                  Manic Phase (Bipolar Disorder)    SD1_4  3   \n1005         Large and Small Intestines and Stomach    SD1_4  0   \n1008         Large and Small Intestines and Stomach    SD1_4  3   \n1011                                Digestive Tract    SD1_4  2   \n1012                                Digestive Tract    SD1_4  3   \n1015                                   Heart Septum    SD1_4  2   \n1019                                        Sternum    SD1_4  2   \n1022                                       Bacteria    SD1_4  1   \n1028                                       Security    SD1_4  3   \n1075                                    Colonoscopy    SD1_4  2   \n1082  Assistance for People with Visual Impairments    SD1_4  1   \n1088                  Child with Minor Heart Defect    SD1_4  3   \n1123                               Trouble Smelling    SD1_4  2   \n1131                                Foot Amputation    SD1_4  2   \n1141                           Breathing Techniques    SD1_4  0   \n1195                   Causes of Origin are Unknown    SD1_4  2   \n1227                          Self-Help Association    SD1_4  2   \n1231                  Self-Help Group for Relatives    SD1_4  2   \n1244                                        Empathy    SD1_4  3   \n1248                        Poor Memory Performance    SD1_4  3   \n1252                                     Being Deaf    SD1_4  3   \n\n                                            description  tifa_score  \\\n0     This is a chronic condition in women where the...         0.0   \n1     This is a chronic condition in women where the...         0.0   \n2     This is a chronic condition in women where the...         0.0   \n3     This is a chronic condition in women where the...         0.0   \n69    Illustration of a naked man. The small and lar...         0.0   \n70    Illustration of a naked man. The small and lar...         0.0   \n71    Illustration of a naked man. The small and lar...         0.0   \n72    Illustration of a naked man. The small and lar...         0.0   \n127   A woman lies sideways on an examination couch ...         0.0   \n128   A woman lies sideways on an examination couch ...         0.0   \n129   A woman lies sideways on an examination couch ...         0.0   \n130   A woman lies sideways on an examination couch ...         0.0   \n180   A woman sits on the floor with her legs crosse...         0.0   \n181   A woman sits on the floor with her legs crosse...         0.0   \n182   A woman sits on the floor with her legs crosse...         0.0   \n183   A woman sits on the floor with her legs crosse...         0.0   \n271   Four adults are sitting in a circle of chairs....         0.0   \n272   Four adults are sitting in a circle of chairs....         0.0   \n273   Four adults are sitting in a circle of chairs....         0.0   \n274   Four adults are sitting in a circle of chairs....         0.0   \n937   This is a chronic condition in women where the...         0.0   \n938   This is a chronic condition in women where the...         0.0   \n939   This is a chronic condition in women where the...         0.0   \n940   This is a chronic condition in women where the...         0.0   \n950       An image of a long cane, unfolded and folded.         0.0   \n952       An image of a long cane, unfolded and folded.         0.0   \n977   The upper body of a woman is depicted. Her spi...         0.0   \n978   The upper body of a woman is depicted. Her spi...         0.0   \n979   The upper body of a woman is depicted. Her spi...         0.0   \n980   The upper body of a woman is depicted. Her spi...         0.0   \n984   A person raises their arms in the air. They ap...         0.0   \n1005  The organs large intestine, small intestine, a...         0.0   \n1008  The organs large intestine, small intestine, a...         0.0   \n1011  Illustration of a naked man. The small and lar...         0.0   \n1012  Illustration of a naked man. The small and lar...         0.0   \n1015  Illustration of a heart. The two heart chamber...         0.0   \n1019  Depicted is a red-haired man with a beard. His...         0.0   \n1022  Illustration of two different elongated, green...         0.0   \n1028  Depicted are a woman and a man lovingly embrac...         0.0   \n1075  A woman lies sideways on an examination couch ...         0.0   \n1082  A young man accompanies a lady with visual imp...         0.0   \n1088  Illustration of a little boy riding a tricycle...         0.0   \n1123  A lady smells a cut lemon and doesn't recogniz...         0.0   \n1131  A woman sits on the floor with her legs crosse...         0.0   \n1141  A blonde woman sits cross-legged. She holds on...         0.0   \n1195  A man in a white coat grabs his head. In front...         0.0   \n1227  Depicted is a map of Germany colored black, re...         0.0   \n1231  Four adults are sitting in a circle of chairs....         0.0   \n1244  A woman puts a comforting hand on a man's shou...         0.0   \n1248  A woman holds her forehead thoughtfully. Quest...         0.0   \n1252  Depicted are two persons facing each other. On...         0.0   \n\n         question_details  \n0     {'all_black': True}  \n1     {'all_black': True}  \n2     {'all_black': True}  \n3     {'all_black': True}  \n69    {'all_black': True}  \n70    {'all_black': True}  \n71    {'all_black': True}  \n72    {'all_black': True}  \n127   {'all_black': True}  \n128   {'all_black': True}  \n129   {'all_black': True}  \n130   {'all_black': True}  \n180   {'all_black': True}  \n181   {'all_black': True}  \n182   {'all_black': True}  \n183   {'all_black': True}  \n271   {'all_black': True}  \n272   {'all_black': True}  \n273   {'all_black': True}  \n274   {'all_black': True}  \n937   {'all_black': True}  \n938   {'all_black': True}  \n939   {'all_black': True}  \n940   {'all_black': True}  \n950   {'all_black': True}  \n952   {'all_black': True}  \n977   {'all_black': True}  \n978   {'all_black': True}  \n979   {'all_black': True}  \n980   {'all_black': True}  \n984   {'all_black': True}  \n1005  {'all_black': True}  \n1008  {'all_black': True}  \n1011  {'all_black': True}  \n1012  {'all_black': True}  \n1015  {'all_black': True}  \n1019  {'all_black': True}  \n1022  {'all_black': True}  \n1028  {'all_black': True}  \n1075  {'all_black': True}  \n1082  {'all_black': True}  \n1088  {'all_black': True}  \n1123  {'all_black': True}  \n1131  {'all_black': True}  \n1141  {'all_black': True}  \n1195  {'all_black': True}  \n1227  {'all_black': True}  \n1231  {'all_black': True}  \n1244  {'all_black': True}  \n1248  {'all_black': True}  \n1252  {'all_black': True}  ",
      "text/html": "<div>\n<style scoped>\n    .dataframe tbody tr th:only-of-type {\n        vertical-align: middle;\n    }\n\n    .dataframe tbody tr th {\n        vertical-align: top;\n    }\n\n    .dataframe thead th {\n        text-align: right;\n    }\n</style>\n<table border=\"1\" class=\"dataframe\">\n  <thead>\n    <tr style=\"text-align: right;\">\n      <th></th>\n      <th>name</th>\n      <th>model</th>\n      <th>id</th>\n      <th>description</th>\n      <th>tifa_score</th>\n      <th>question_details</th>\n    </tr>\n  </thead>\n  <tbody>\n    <tr>\n      <th>0</th>\n      <td>Endometriosis</td>\n      <td>DALLE-3</td>\n      <td>0</td>\n      <td>This is a chronic condition in women where the...</td>\n      <td>0.0</td>\n      <td>{'all_black': True}</td>\n    </tr>\n    <tr>\n      <th>1</th>\n      <td>Endometriosis</td>\n      <td>DALLE-3</td>\n      <td>1</td>\n      <td>This is a chronic condition in women where the...</td>\n      <td>0.0</td>\n      <td>{'all_black': True}</td>\n    </tr>\n    <tr>\n      <th>2</th>\n      <td>Endometriosis</td>\n      <td>DALLE-3</td>\n      <td>2</td>\n      <td>This is a chronic condition in women where the...</td>\n      <td>0.0</td>\n      <td>{'all_black': True}</td>\n    </tr>\n    <tr>\n      <th>3</th>\n      <td>Endometriosis</td>\n      <td>DALLE-3</td>\n      <td>3</td>\n      <td>This is a chronic condition in women where the...</td>\n      <td>0.0</td>\n      <td>{'all_black': True}</td>\n    </tr>\n    <tr>\n      <th>69</th>\n      <td>Digestive Tract</td>\n      <td>DALLE-3</td>\n      <td>0</td>\n      <td>Illustration of a naked man. The small and lar...</td>\n      <td>0.0</td>\n      <td>{'all_black': True}</td>\n    </tr>\n    <tr>\n      <th>70</th>\n      <td>Digestive Tract</td>\n      <td>DALLE-3</td>\n      <td>1</td>\n      <td>Illustration of a naked man. The small and lar...</td>\n      <td>0.0</td>\n      <td>{'all_black': True}</td>\n    </tr>\n    <tr>\n      <th>71</th>\n      <td>Digestive Tract</td>\n      <td>DALLE-3</td>\n      <td>2</td>\n      <td>Illustration of a naked man. The small and lar...</td>\n      <td>0.0</td>\n      <td>{'all_black': True}</td>\n    </tr>\n    <tr>\n      <th>72</th>\n      <td>Digestive Tract</td>\n      <td>DALLE-3</td>\n      <td>3</td>\n      <td>Illustration of a naked man. The small and lar...</td>\n      <td>0.0</td>\n      <td>{'all_black': True}</td>\n    </tr>\n    <tr>\n      <th>127</th>\n      <td>Colonoscopy</td>\n      <td>DALLE-3</td>\n      <td>0</td>\n      <td>A woman lies sideways on an examination couch ...</td>\n      <td>0.0</td>\n      <td>{'all_black': True}</td>\n    </tr>\n    <tr>\n      <th>128</th>\n      <td>Colonoscopy</td>\n      <td>DALLE-3</td>\n      <td>1</td>\n      <td>A woman lies sideways on an examination couch ...</td>\n      <td>0.0</td>\n      <td>{'all_black': True}</td>\n    </tr>\n    <tr>\n      <th>129</th>\n      <td>Colonoscopy</td>\n      <td>DALLE-3</td>\n      <td>2</td>\n      <td>A woman lies sideways on an examination couch ...</td>\n      <td>0.0</td>\n      <td>{'all_black': True}</td>\n    </tr>\n    <tr>\n      <th>130</th>\n      <td>Colonoscopy</td>\n      <td>DALLE-3</td>\n      <td>3</td>\n      <td>A woman lies sideways on an examination couch ...</td>\n      <td>0.0</td>\n      <td>{'all_black': True}</td>\n    </tr>\n    <tr>\n      <th>180</th>\n      <td>Foot Amputation</td>\n      <td>DALLE-3</td>\n      <td>0</td>\n      <td>A woman sits on the floor with her legs crosse...</td>\n      <td>0.0</td>\n      <td>{'all_black': True}</td>\n    </tr>\n    <tr>\n      <th>181</th>\n      <td>Foot Amputation</td>\n      <td>DALLE-3</td>\n      <td>1</td>\n      <td>A woman sits on the floor with her legs crosse...</td>\n      <td>0.0</td>\n      <td>{'all_black': True}</td>\n    </tr>\n    <tr>\n      <th>182</th>\n      <td>Foot Amputation</td>\n      <td>DALLE-3</td>\n      <td>2</td>\n      <td>A woman sits on the floor with her legs crosse...</td>\n      <td>0.0</td>\n      <td>{'all_black': True}</td>\n    </tr>\n    <tr>\n      <th>183</th>\n      <td>Foot Amputation</td>\n      <td>DALLE-3</td>\n      <td>3</td>\n      <td>A woman sits on the floor with her legs crosse...</td>\n      <td>0.0</td>\n      <td>{'all_black': True}</td>\n    </tr>\n    <tr>\n      <th>271</th>\n      <td>Self-Help Group for Relatives</td>\n      <td>DALLE-3</td>\n      <td>0</td>\n      <td>Four adults are sitting in a circle of chairs....</td>\n      <td>0.0</td>\n      <td>{'all_black': True}</td>\n    </tr>\n    <tr>\n      <th>272</th>\n      <td>Self-Help Group for Relatives</td>\n      <td>DALLE-3</td>\n      <td>1</td>\n      <td>Four adults are sitting in a circle of chairs....</td>\n      <td>0.0</td>\n      <td>{'all_black': True}</td>\n    </tr>\n    <tr>\n      <th>273</th>\n      <td>Self-Help Group for Relatives</td>\n      <td>DALLE-3</td>\n      <td>2</td>\n      <td>Four adults are sitting in a circle of chairs....</td>\n      <td>0.0</td>\n      <td>{'all_black': True}</td>\n    </tr>\n    <tr>\n      <th>274</th>\n      <td>Self-Help Group for Relatives</td>\n      <td>DALLE-3</td>\n      <td>3</td>\n      <td>Four adults are sitting in a circle of chairs....</td>\n      <td>0.0</td>\n      <td>{'all_black': True}</td>\n    </tr>\n    <tr>\n      <th>937</th>\n      <td>Endometriosis</td>\n      <td>SD1_4</td>\n      <td>0</td>\n      <td>This is a chronic condition in women where the...</td>\n      <td>0.0</td>\n      <td>{'all_black': True}</td>\n    </tr>\n    <tr>\n      <th>938</th>\n      <td>Endometriosis</td>\n      <td>SD1_4</td>\n      <td>1</td>\n      <td>This is a chronic condition in women where the...</td>\n      <td>0.0</td>\n      <td>{'all_black': True}</td>\n    </tr>\n    <tr>\n      <th>939</th>\n      <td>Endometriosis</td>\n      <td>SD1_4</td>\n      <td>2</td>\n      <td>This is a chronic condition in women where the...</td>\n      <td>0.0</td>\n      <td>{'all_black': True}</td>\n    </tr>\n    <tr>\n      <th>940</th>\n      <td>Endometriosis</td>\n      <td>SD1_4</td>\n      <td>3</td>\n      <td>This is a chronic condition in women where the...</td>\n      <td>0.0</td>\n      <td>{'all_black': True}</td>\n    </tr>\n    <tr>\n      <th>950</th>\n      <td>Long Cane</td>\n      <td>SD1_4</td>\n      <td>1</td>\n      <td>An image of a long cane, unfolded and folded.</td>\n      <td>0.0</td>\n      <td>{'all_black': True}</td>\n    </tr>\n    <tr>\n      <th>952</th>\n      <td>Long Cane</td>\n      <td>SD1_4</td>\n      <td>3</td>\n      <td>An image of a long cane, unfolded and folded.</td>\n      <td>0.0</td>\n      <td>{'all_black': True}</td>\n    </tr>\n    <tr>\n      <th>977</th>\n      <td>MS Episode</td>\n      <td>SD1_4</td>\n      <td>0</td>\n      <td>The upper body of a woman is depicted. Her spi...</td>\n      <td>0.0</td>\n      <td>{'all_black': True}</td>\n    </tr>\n    <tr>\n      <th>978</th>\n      <td>MS Episode</td>\n      <td>SD1_4</td>\n      <td>1</td>\n      <td>The upper body of a woman is depicted. Her spi...</td>\n      <td>0.0</td>\n      <td>{'all_black': True}</td>\n    </tr>\n    <tr>\n      <th>979</th>\n      <td>MS Episode</td>\n      <td>SD1_4</td>\n      <td>2</td>\n      <td>The upper body of a woman is depicted. Her spi...</td>\n      <td>0.0</td>\n      <td>{'all_black': True}</td>\n    </tr>\n    <tr>\n      <th>980</th>\n      <td>MS Episode</td>\n      <td>SD1_4</td>\n      <td>3</td>\n      <td>The upper body of a woman is depicted. Her spi...</td>\n      <td>0.0</td>\n      <td>{'all_black': True}</td>\n    </tr>\n    <tr>\n      <th>984</th>\n      <td>Manic Phase (Bipolar Disorder)</td>\n      <td>SD1_4</td>\n      <td>3</td>\n      <td>A person raises their arms in the air. They ap...</td>\n      <td>0.0</td>\n      <td>{'all_black': True}</td>\n    </tr>\n    <tr>\n      <th>1005</th>\n      <td>Large and Small Intestines and Stomach</td>\n      <td>SD1_4</td>\n      <td>0</td>\n      <td>The organs large intestine, small intestine, a...</td>\n      <td>0.0</td>\n      <td>{'all_black': True}</td>\n    </tr>\n    <tr>\n      <th>1008</th>\n      <td>Large and Small Intestines and Stomach</td>\n      <td>SD1_4</td>\n      <td>3</td>\n      <td>The organs large intestine, small intestine, a...</td>\n      <td>0.0</td>\n      <td>{'all_black': True}</td>\n    </tr>\n    <tr>\n      <th>1011</th>\n      <td>Digestive Tract</td>\n      <td>SD1_4</td>\n      <td>2</td>\n      <td>Illustration of a naked man. The small and lar...</td>\n      <td>0.0</td>\n      <td>{'all_black': True}</td>\n    </tr>\n    <tr>\n      <th>1012</th>\n      <td>Digestive Tract</td>\n      <td>SD1_4</td>\n      <td>3</td>\n      <td>Illustration of a naked man. The small and lar...</td>\n      <td>0.0</td>\n      <td>{'all_black': True}</td>\n    </tr>\n    <tr>\n      <th>1015</th>\n      <td>Heart Septum</td>\n      <td>SD1_4</td>\n      <td>2</td>\n      <td>Illustration of a heart. The two heart chamber...</td>\n      <td>0.0</td>\n      <td>{'all_black': True}</td>\n    </tr>\n    <tr>\n      <th>1019</th>\n      <td>Sternum</td>\n      <td>SD1_4</td>\n      <td>2</td>\n      <td>Depicted is a red-haired man with a beard. His...</td>\n      <td>0.0</td>\n      <td>{'all_black': True}</td>\n    </tr>\n    <tr>\n      <th>1022</th>\n      <td>Bacteria</td>\n      <td>SD1_4</td>\n      <td>1</td>\n      <td>Illustration of two different elongated, green...</td>\n      <td>0.0</td>\n      <td>{'all_black': True}</td>\n    </tr>\n    <tr>\n      <th>1028</th>\n      <td>Security</td>\n      <td>SD1_4</td>\n      <td>3</td>\n      <td>Depicted are a woman and a man lovingly embrac...</td>\n      <td>0.0</td>\n      <td>{'all_black': True}</td>\n    </tr>\n    <tr>\n      <th>1075</th>\n      <td>Colonoscopy</td>\n      <td>SD1_4</td>\n      <td>2</td>\n      <td>A woman lies sideways on an examination couch ...</td>\n      <td>0.0</td>\n      <td>{'all_black': True}</td>\n    </tr>\n    <tr>\n      <th>1082</th>\n      <td>Assistance for People with Visual Impairments</td>\n      <td>SD1_4</td>\n      <td>1</td>\n      <td>A young man accompanies a lady with visual imp...</td>\n      <td>0.0</td>\n      <td>{'all_black': True}</td>\n    </tr>\n    <tr>\n      <th>1088</th>\n      <td>Child with Minor Heart Defect</td>\n      <td>SD1_4</td>\n      <td>3</td>\n      <td>Illustration of a little boy riding a tricycle...</td>\n      <td>0.0</td>\n      <td>{'all_black': True}</td>\n    </tr>\n    <tr>\n      <th>1123</th>\n      <td>Trouble Smelling</td>\n      <td>SD1_4</td>\n      <td>2</td>\n      <td>A lady smells a cut lemon and doesn't recogniz...</td>\n      <td>0.0</td>\n      <td>{'all_black': True}</td>\n    </tr>\n    <tr>\n      <th>1131</th>\n      <td>Foot Amputation</td>\n      <td>SD1_4</td>\n      <td>2</td>\n      <td>A woman sits on the floor with her legs crosse...</td>\n      <td>0.0</td>\n      <td>{'all_black': True}</td>\n    </tr>\n    <tr>\n      <th>1141</th>\n      <td>Breathing Techniques</td>\n      <td>SD1_4</td>\n      <td>0</td>\n      <td>A blonde woman sits cross-legged. She holds on...</td>\n      <td>0.0</td>\n      <td>{'all_black': True}</td>\n    </tr>\n    <tr>\n      <th>1195</th>\n      <td>Causes of Origin are Unknown</td>\n      <td>SD1_4</td>\n      <td>2</td>\n      <td>A man in a white coat grabs his head. In front...</td>\n      <td>0.0</td>\n      <td>{'all_black': True}</td>\n    </tr>\n    <tr>\n      <th>1227</th>\n      <td>Self-Help Association</td>\n      <td>SD1_4</td>\n      <td>2</td>\n      <td>Depicted is a map of Germany colored black, re...</td>\n      <td>0.0</td>\n      <td>{'all_black': True}</td>\n    </tr>\n    <tr>\n      <th>1231</th>\n      <td>Self-Help Group for Relatives</td>\n      <td>SD1_4</td>\n      <td>2</td>\n      <td>Four adults are sitting in a circle of chairs....</td>\n      <td>0.0</td>\n      <td>{'all_black': True}</td>\n    </tr>\n    <tr>\n      <th>1244</th>\n      <td>Empathy</td>\n      <td>SD1_4</td>\n      <td>3</td>\n      <td>A woman puts a comforting hand on a man's shou...</td>\n      <td>0.0</td>\n      <td>{'all_black': True}</td>\n    </tr>\n    <tr>\n      <th>1248</th>\n      <td>Poor Memory Performance</td>\n      <td>SD1_4</td>\n      <td>3</td>\n      <td>A woman holds her forehead thoughtfully. Quest...</td>\n      <td>0.0</td>\n      <td>{'all_black': True}</td>\n    </tr>\n    <tr>\n      <th>1252</th>\n      <td>Being Deaf</td>\n      <td>SD1_4</td>\n      <td>3</td>\n      <td>Depicted are two persons facing each other. On...</td>\n      <td>0.0</td>\n      <td>{'all_black': True}</td>\n    </tr>\n  </tbody>\n</table>\n</div>"
     },
     "execution_count": 37,
     "metadata": {},
     "output_type": "execute_result"
    }
   ],
   "source": [
    "tifa_scores_mplug[tifa_scores_mplug.question_details == \"{'all_black': True}\"]"
   ],
   "metadata": {
    "collapsed": false,
    "ExecuteTime": {
     "end_time": "2024-07-30T13:20:11.596793900Z",
     "start_time": "2024-07-30T13:20:11.562106200Z"
    }
   },
   "id": "155181571875a226"
  },
  {
   "cell_type": "code",
   "execution_count": 2,
   "outputs": [
    {
     "data": {
      "text/plain": "{'activity',\n 'animal/human',\n 'attribute',\n 'color',\n 'counting',\n 'food',\n 'location',\n 'object',\n 'other',\n 'shape',\n 'spatial'}"
     },
     "execution_count": 2,
     "metadata": {},
     "output_type": "execute_result"
    }
   ],
   "source": [
    "element_types = set()\n",
    "for i, row in tifa_scores_mplug.iterrows():\n",
    "    for _, question_details in row[\"question_details\"].items():\n",
    "        element_types.add(question_details[\"element_type\"])\n",
    "element_types"
   ],
   "metadata": {
    "collapsed": false,
    "ExecuteTime": {
     "end_time": "2024-07-30T11:45:19.689368800Z",
     "start_time": "2024-07-30T11:45:19.658441100Z"
    }
   },
   "id": "7f9e89b509df240e"
  },
  {
   "cell_type": "code",
   "execution_count": 16,
   "outputs": [],
   "source": [
    "elements_dict = {e: 0 for e in element_types}\n",
    "model_elements_score = {\n",
    "    \"SD1_4\": elements_dict.copy(),\n",
    "    \"SD2_1_base\": elements_dict.copy(),\n",
    "    \"SD_3\": elements_dict.copy(),\n",
    "    \"Wuerstchen\": elements_dict.copy(),\n",
    "    \"DALLE-3\": elements_dict.copy(),\n",
    "    \"Midjourney\": elements_dict.copy(),\n",
    "    \"artbreeder\": elements_dict.copy(),\n",
    "    \"references\": elements_dict.copy()\n",
    "}\n",
    "model_elements_count = {\n",
    "    \"SD1_4\": elements_dict.copy(),\n",
    "    \"SD2_1_base\": elements_dict.copy(),\n",
    "    \"SD_3\": elements_dict.copy(),\n",
    "    \"Wuerstchen\": elements_dict.copy(),\n",
    "    \"DALLE-3\": elements_dict.copy(),\n",
    "    \"Midjourney\": elements_dict.copy(),\n",
    "    \"artbreeder\": elements_dict.copy(),\n",
    "    \"references\": elements_dict.copy()\n",
    "}"
   ],
   "metadata": {
    "collapsed": false,
    "ExecuteTime": {
     "end_time": "2024-07-30T11:49:00.711047100Z",
     "start_time": "2024-07-30T11:49:00.686405200Z"
    }
   },
   "id": "1f8084ad5778f2c6"
  },
  {
   "cell_type": "code",
   "execution_count": 17,
   "id": "4bd0e41c2e67d843",
   "metadata": {
    "collapsed": false,
    "ExecuteTime": {
     "end_time": "2024-07-30T11:49:01.653859700Z",
     "start_time": "2024-07-30T11:49:01.403662500Z"
    }
   },
   "outputs": [],
   "source": [
    "for i, row in tifa_scores_mplug.iterrows():\n",
    "    for _, question_details in row[\"question_details\"].items():\n",
    "        #print(row[\"question_details\"])\n",
    "        #print(f\"element: question_details['element_type']\")\n",
    "        model_elements_count[row[\"model\"]][question_details[\"element_type\"]] += 1\n",
    "        model_elements_score[row[\"model\"]][question_details[\"element_type\"]] += question_details[\"scores\"]"
   ]
  },
  {
   "cell_type": "code",
   "execution_count": 60,
   "id": "cf7dad91ac106d03",
   "metadata": {
    "collapsed": false,
    "ExecuteTime": {
     "end_time": "2024-07-30T13:55:02.161482600Z",
     "start_time": "2024-07-30T13:55:00.351831800Z"
    }
   },
   "outputs": [
    {
     "data": {
      "text/plain": "<Figure size 900x300 with 1 Axes>",
      "image/png": "[encoded data removed]"
     },
     "metadata": {},
     "output_type": "display_data"
    }
   ],
   "source": [
    "# https://matplotlib.org/stable/gallery/lines_bars_and_markers/barchart.html#sphx-glr-gallery-lines-bars-and-markers-barchart-py\n",
    "# https://seaborn.pydata.org/tutorial/color_palettes.html\n",
    "import matplotlib.pyplot as plt\n",
    "import numpy as np\n",
    "import seaborn as sns \n",
    "\n",
    "x = np.arange(len(element_types))  # the label locations\n",
    "width = 0.09  # the width of the bars\n",
    "multiplier = 0\n",
    "\n",
    "fig, ax = plt.subplots(layout='constrained')\n",
    "fig.set_figheight(3)\n",
    "fig.set_figwidth(9)\n",
    "#ax.set_prop_cycle(\"color\", sns.color_palette(\"magma\", len(model_elements_count)))\n",
    "#ax.set_prop_cycle(\"color\", sns.color_palette(\"bright\", len(model_elements_count)))\n",
    "#ax.set_prop_cycle(\"color\", ['#377eb8', '#ff7f00', '#4daf4a', '#f781bf', \"#dede00\", '#a65628', '#999999'])\n",
    "#ax.set_prop_cycle(\"color\", ['#1f77b4', '#ff7f0e', '#2ca02c', '#d62728', \"#9467bd\", '#8c564b', '#e377c2', '#999999'])\n",
    "# https://www.simplifiedsciencepublishing.com/resources/best-color-palettes-for-scientific-figures-and-data-visualizations\n",
    "ax.set_prop_cycle(\"color\", ['#003a7d', '#d83034', '#008dff',\n",
    "                            #'#f9e858', \n",
    "                            '#ff73b6', \"#4ecb8d\", '#ff9d3a', '#c701ff', \"#a1a1a1\"])\n",
    "ax.set_prop_cycle(\"color\", ['7e4794', '#31946B', '#008dff', '#e25759', \"#f0c571\", '#6BCE00', '#9d2c00', '#a1a1a1'])\n",
    "#ax.set_prop_cycle(\"color\", \"cmyk\")\n",
    "\n",
    "for model, model_elements in model_elements_count.items():\n",
    "    accuracies = [model_elements_score[model][element] / count if count > 0 else 0 for element, count in model_elements.items()]\n",
    "    offset = width * multiplier\n",
    "    rects = ax.bar(x - 2*width + offset, accuracies, width, label=model)\n",
    "    #ax.bar_label(rects, padding=7)\n",
    "    multiplier += 1\n",
    "    \n",
    "for i, element in enumerate(element_types):\n",
    "    element_vals = [model_elements_score[model][element] / model_elements[element] if model_elements[element] > 0 else 0 for model, model_elements in model_elements_count.items()]\n",
    "    ax.text(i - width, max(element_vals) + 0.03, f\"n={model_elements_count['SD_3'][element]}\")\n",
    "#for i, count in enumerate(model_elements_count[\"SD_3\"].values()):\n",
    "#    ax.text(i - width, 1.1, f\"n={count}\")\n",
    "# Add some text for labels, title and custom x-axis tick labels, etc.\n",
    "ax.set_ylabel('Accuracy')\n",
    "ax.set_xlabel('Element type')\n",
    "ax.set_xticks(x + width, [e.replace('/','/\\n') for e in element_types])\n",
    "#ax.legend(loc='upper left', ncols=3)\n",
    "ax.set_ylim(0, 1.11)\n",
    "ax.set_xlim(-0.4, 12.4)#10.7)\n",
    "#plt.legend(loc=\"center\", ncols=2)\n",
    "plt.legend(fontsize=\"small\", loc=\"lower right\", ncols=1)\n",
    "\n",
    "plt.savefig(\"../figures/tifa_score_elements.pdf\")"
   ]
  },
  {
   "cell_type": "markdown",
   "source": [
    "## Sort by image category"
   ],
   "metadata": {
    "collapsed": false
   },
   "id": "73af3d4a2f02e84b"
  },
  {
   "cell_type": "code",
   "execution_count": 1,
   "outputs": [],
   "source": [
    "import pandas as pd\n",
    "\n",
    "tifa_scores_mplug = pd.read_csv(\"tifa_scores_mplug.csv\")\n",
    "ls_bilder = pd.read_csv(\"../sampled_data_fixed.csv\")"
   ],
   "metadata": {
    "collapsed": false,
    "ExecuteTime": {
     "end_time": "2024-08-02T06:06:41.465916400Z",
     "start_time": "2024-08-02T06:06:41.368776100Z"
    }
   },
   "id": "910f1807e8a8cc40"
  },
  {
   "cell_type": "code",
   "execution_count": 7,
   "outputs": [
    {
     "data": {
      "text/plain": "                          name    model id  \\\n0                Endometriosis  DALLE-3  0   \n1                Endometriosis  DALLE-3  1   \n2                Endometriosis  DALLE-3  2   \n3                Endometriosis  DALLE-3  3   \n4     Exchange on the Internet  DALLE-3  0   \n...                        ...      ... ..   \n2292                Being Deaf     SD_3  3   \n2293               Being Blind     SD_3  0   \n2294               Being Blind     SD_3  1   \n2295               Being Blind     SD_3  2   \n2296               Being Blind     SD_3  3   \n\n                                            description  tifa_score  \\\n0     This is a chronic condition in women where the...        0.00   \n1     This is a chronic condition in women where the...        0.00   \n2     This is a chronic condition in women where the...        0.00   \n3     This is a chronic condition in women where the...        0.00   \n4     In the middle, there is a globe depicted. Arou...        1.00   \n...                                                 ...         ...   \n2292  Depicted are two persons facing each other. On...        0.80   \n2293  Depicted is a man holding a long cane in his h...        0.50   \n2294  Depicted is a man holding a long cane in his h...        0.50   \n2295  Depicted is a man holding a long cane in his h...        0.75   \n2296  Depicted is a man holding a long cane in his h...        0.50   \n\n                                       question_details  \\\n0                                   {'all_black': True}   \n1                                   {'all_black': True}   \n2                                   {'all_black': True}   \n3                                   {'all_black': True}   \n4     {'are there individuals depicted?': {'caption'...   \n...                                                 ...   \n2292  {'is one person communicating in sign language...   \n2293  {'is the man holding a cane?': {'caption': 'De...   \n2294  {'is the man holding a cane?': {'caption': 'De...   \n2295  {'is the man holding a cane?': {'caption': 'De...   \n2296  {'is the man holding a cane?': {'caption': 'De...   \n\n                            category  \\\n0          Erkrankung/Krankheitsbild   \n1          Erkrankung/Krankheitsbild   \n2          Erkrankung/Krankheitsbild   \n3          Erkrankung/Krankheitsbild   \n4                      Vereinsarbeit   \n...                              ...   \n2292  Kognitive Faehigkeiten/Zustand   \n2293  Kognitive Faehigkeiten/Zustand   \n2294  Kognitive Faehigkeiten/Zustand   \n2295  Kognitive Faehigkeiten/Zustand   \n2296  Kognitive Faehigkeiten/Zustand   \n\n                                    english_description  \\\n0     This is a chronic condition in women where the...   \n1     This is a chronic condition in women where the...   \n2     This is a chronic condition in women where the...   \n3     This is a chronic condition in women where the...   \n4     In the middle, there is a globe depicted. Arou...   \n...                                                 ...   \n2292  Depicted are two persons facing each other. On...   \n2293  Depicted is a man holding a long cane in his h...   \n2294  Depicted is a man holding a long cane in his h...   \n2295  Depicted is a man holding a long cane in his h...   \n2296  Depicted is a man holding a long cane in his h...   \n\n                                              image_url  \\\n0     https://www.lag-sb-rlp.de/images/phocagallery/...   \n1     https://www.lag-sb-rlp.de/images/phocagallery/...   \n2     https://www.lag-sb-rlp.de/images/phocagallery/...   \n3     https://www.lag-sb-rlp.de/images/phocagallery/...   \n4     https://www.lag-sb-rlp.de/images/phocagallery/...   \n...                                                 ...   \n2292  https://www.lag-sb-rlp.de/images/phocagallery/...   \n2293  https://www.lag-sb-rlp.de/images/phocagallery/...   \n2294  https://www.lag-sb-rlp.de/images/phocagallery/...   \n2295  https://www.lag-sb-rlp.de/images/phocagallery/...   \n2296  https://www.lag-sb-rlp.de/images/phocagallery/...   \n\n                                                 prompt  \\\n0     Cartoon picture of Endometriosis - This is a c...   \n1     Cartoon picture of Endometriosis - This is a c...   \n2     Cartoon picture of Endometriosis - This is a c...   \n3     Cartoon picture of Endometriosis - This is a c...   \n4     Cartoon picture of Exchange on the Internet - ...   \n...                                                 ...   \n2292  Cartoon picture of Being Deaf - Depicted are t...   \n2293  Cartoon picture of Being Blind - Depicted is a...   \n2294  Cartoon picture of Being Blind - Depicted is a...   \n2295  Cartoon picture of Being Blind - Depicted is a...   \n2296  Cartoon picture of Being Blind - Depicted is a...   \n\n                german_name                                 german_description  \n0              Endometriose  Das ist eine chronische Erkrankung bei Frauen,...  \n1              Endometriose  Das ist eine chronische Erkrankung bei Frauen,...  \n2              Endometriose  Das ist eine chronische Erkrankung bei Frauen,...  \n3              Endometriose  Das ist eine chronische Erkrankung bei Frauen,...  \n4     Austausch im Internet  In der Mitte ist eine Weltkugel abgebildet. Au...  \n...                     ...                                                ...  \n2292         Gehoerlos sein  Abgebildet sind zwei Personen die einander zug...  \n2293             Blind sein  Abgebildet ist ein Mann, der einen Langstock i...  \n2294             Blind sein  Abgebildet ist ein Mann, der einen Langstock i...  \n2295             Blind sein  Abgebildet ist ein Mann, der einen Langstock i...  \n2296             Blind sein  Abgebildet ist ein Mann, der einen Langstock i...  \n\n[2297 rows x 12 columns]",
      "text/html": "<div>\n<style scoped>\n    .dataframe tbody tr th:only-of-type {\n        vertical-align: middle;\n    }\n\n    .dataframe tbody tr th {\n        vertical-align: top;\n    }\n\n    .dataframe thead th {\n        text-align: right;\n    }\n</style>\n<table border=\"1\" class=\"dataframe\">\n  <thead>\n    <tr style=\"text-align: right;\">\n      <th></th>\n      <th>name</th>\n      <th>model</th>\n      <th>id</th>\n      <th>description</th>\n      <th>tifa_score</th>\n      <th>question_details</th>\n      <th>category</th>\n      <th>english_description</th>\n      <th>image_url</th>\n      <th>prompt</th>\n      <th>german_name</th>\n      <th>german_description</th>\n    </tr>\n  </thead>\n  <tbody>\n    <tr>\n      <th>0</th>\n      <td>Endometriosis</td>\n      <td>DALLE-3</td>\n      <td>0</td>\n      <td>This is a chronic condition in women where the...</td>\n      <td>0.00</td>\n      <td>{'all_black': True}</td>\n      <td>Erkrankung/Krankheitsbild</td>\n      <td>This is a chronic condition in women where the...</td>\n      <td>https://www.lag-sb-rlp.de/images/phocagallery/...</td>\n      <td>Cartoon picture of Endometriosis - This is a c...</td>\n      <td>Endometriose</td>\n      <td>Das ist eine chronische Erkrankung bei Frauen,...</td>\n    </tr>\n    <tr>\n      <th>1</th>\n      <td>Endometriosis</td>\n      <td>DALLE-3</td>\n      <td>1</td>\n      <td>This is a chronic condition in women where the...</td>\n      <td>0.00</td>\n      <td>{'all_black': True}</td>\n      <td>Erkrankung/Krankheitsbild</td>\n      <td>This is a chronic condition in women where the...</td>\n      <td>https://www.lag-sb-rlp.de/images/phocagallery/...</td>\n      <td>Cartoon picture of Endometriosis - This is a c...</td>\n      <td>Endometriose</td>\n      <td>Das ist eine chronische Erkrankung bei Frauen,...</td>\n    </tr>\n    <tr>\n      <th>2</th>\n      <td>Endometriosis</td>\n      <td>DALLE-3</td>\n      <td>2</td>\n      <td>This is a chronic condition in women where the...</td>\n      <td>0.00</td>\n      <td>{'all_black': True}</td>\n      <td>Erkrankung/Krankheitsbild</td>\n      <td>This is a chronic condition in women where the...</td>\n      <td>https://www.lag-sb-rlp.de/images/phocagallery/...</td>\n      <td>Cartoon picture of Endometriosis - This is a c...</td>\n      <td>Endometriose</td>\n      <td>Das ist eine chronische Erkrankung bei Frauen,...</td>\n    </tr>\n    <tr>\n      <th>3</th>\n      <td>Endometriosis</td>\n      <td>DALLE-3</td>\n      <td>3</td>\n      <td>This is a chronic condition in women where the...</td>\n      <td>0.00</td>\n      <td>{'all_black': True}</td>\n      <td>Erkrankung/Krankheitsbild</td>\n      <td>This is a chronic condition in women where the...</td>\n      <td>https://www.lag-sb-rlp.de/images/phocagallery/...</td>\n      <td>Cartoon picture of Endometriosis - This is a c...</td>\n      <td>Endometriose</td>\n      <td>Das ist eine chronische Erkrankung bei Frauen,...</td>\n    </tr>\n    <tr>\n      <th>4</th>\n      <td>Exchange on the Internet</td>\n      <td>DALLE-3</td>\n      <td>0</td>\n      <td>In the middle, there is a globe depicted. Arou...</td>\n      <td>1.00</td>\n      <td>{'are there individuals depicted?': {'caption'...</td>\n      <td>Vereinsarbeit</td>\n      <td>In the middle, there is a globe depicted. Arou...</td>\n      <td>https://www.lag-sb-rlp.de/images/phocagallery/...</td>\n      <td>Cartoon picture of Exchange on the Internet - ...</td>\n      <td>Austausch im Internet</td>\n      <td>In der Mitte ist eine Weltkugel abgebildet. Au...</td>\n    </tr>\n    <tr>\n      <th>...</th>\n      <td>...</td>\n      <td>...</td>\n      <td>...</td>\n      <td>...</td>\n      <td>...</td>\n      <td>...</td>\n      <td>...</td>\n      <td>...</td>\n      <td>...</td>\n      <td>...</td>\n      <td>...</td>\n      <td>...</td>\n    </tr>\n    <tr>\n      <th>2292</th>\n      <td>Being Deaf</td>\n      <td>SD_3</td>\n      <td>3</td>\n      <td>Depicted are two persons facing each other. On...</td>\n      <td>0.80</td>\n      <td>{'is one person communicating in sign language...</td>\n      <td>Kognitive Faehigkeiten/Zustand</td>\n      <td>Depicted are two persons facing each other. On...</td>\n      <td>https://www.lag-sb-rlp.de/images/phocagallery/...</td>\n      <td>Cartoon picture of Being Deaf - Depicted are t...</td>\n      <td>Gehoerlos sein</td>\n      <td>Abgebildet sind zwei Personen die einander zug...</td>\n    </tr>\n    <tr>\n      <th>2293</th>\n      <td>Being Blind</td>\n      <td>SD_3</td>\n      <td>0</td>\n      <td>Depicted is a man holding a long cane in his h...</td>\n      <td>0.50</td>\n      <td>{'is the man holding a cane?': {'caption': 'De...</td>\n      <td>Kognitive Faehigkeiten/Zustand</td>\n      <td>Depicted is a man holding a long cane in his h...</td>\n      <td>https://www.lag-sb-rlp.de/images/phocagallery/...</td>\n      <td>Cartoon picture of Being Blind - Depicted is a...</td>\n      <td>Blind sein</td>\n      <td>Abgebildet ist ein Mann, der einen Langstock i...</td>\n    </tr>\n    <tr>\n      <th>2294</th>\n      <td>Being Blind</td>\n      <td>SD_3</td>\n      <td>1</td>\n      <td>Depicted is a man holding a long cane in his h...</td>\n      <td>0.50</td>\n      <td>{'is the man holding a cane?': {'caption': 'De...</td>\n      <td>Kognitive Faehigkeiten/Zustand</td>\n      <td>Depicted is a man holding a long cane in his h...</td>\n      <td>https://www.lag-sb-rlp.de/images/phocagallery/...</td>\n      <td>Cartoon picture of Being Blind - Depicted is a...</td>\n      <td>Blind sein</td>\n      <td>Abgebildet ist ein Mann, der einen Langstock i...</td>\n    </tr>\n    <tr>\n      <th>2295</th>\n      <td>Being Blind</td>\n      <td>SD_3</td>\n      <td>2</td>\n      <td>Depicted is a man holding a long cane in his h...</td>\n      <td>0.75</td>\n      <td>{'is the man holding a cane?': {'caption': 'De...</td>\n      <td>Kognitive Faehigkeiten/Zustand</td>\n      <td>Depicted is a man holding a long cane in his h...</td>\n      <td>https://www.lag-sb-rlp.de/images/phocagallery/...</td>\n      <td>Cartoon picture of Being Blind - Depicted is a...</td>\n      <td>Blind sein</td>\n      <td>Abgebildet ist ein Mann, der einen Langstock i...</td>\n    </tr>\n    <tr>\n      <th>2296</th>\n      <td>Being Blind</td>\n      <td>SD_3</td>\n      <td>3</td>\n      <td>Depicted is a man holding a long cane in his h...</td>\n      <td>0.50</td>\n      <td>{'is the man holding a cane?': {'caption': 'De...</td>\n      <td>Kognitive Faehigkeiten/Zustand</td>\n      <td>Depicted is a man holding a long cane in his h...</td>\n      <td>https://www.lag-sb-rlp.de/images/phocagallery/...</td>\n      <td>Cartoon picture of Being Blind - Depicted is a...</td>\n      <td>Blind sein</td>\n      <td>Abgebildet ist ein Mann, der einen Langstock i...</td>\n    </tr>\n  </tbody>\n</table>\n<p>2297 rows × 12 columns</p>\n</div>"
     },
     "execution_count": 7,
     "metadata": {},
     "output_type": "execute_result"
    }
   ],
   "source": [
    "ls_bilder = ls_bilder.rename(columns={\"english_name\": 'name'})\n",
    "\n",
    "tifa_infos = tifa_scores_mplug.merge(ls_bilder)\n",
    "tifa_infos"
   ],
   "metadata": {
    "collapsed": false,
    "ExecuteTime": {
     "end_time": "2024-08-02T06:13:32.628520100Z",
     "start_time": "2024-08-02T06:13:32.569982Z"
    }
   },
   "id": "6676aa25726019d9"
  },
  {
   "cell_type": "code",
   "execution_count": 8,
   "outputs": [
    {
     "data": {
      "text/plain": "category\nAerztliche Behandlung               0.697602\nBegriffe                            0.850969\nBeratung und Information            0.751289\nErkrankung/Krankheitsbild           0.560737\nGefuehle                            0.659163\nGesundheitsbezogene Selbsthilfe     0.695271\nGesundheitsfoerderung               0.708509\nHilfsmittel                         0.653448\nKoerper                             0.669425\nKoerperlicher Zustand/Beschwerde    0.654238\nKognitive Faehigkeiten/Zustand      0.707567\nPersonen                            0.796502\nTaetigkeiten                        0.730493\nVereinsarbeit                       0.760796\nVerhalten                           0.663416\nWohnen                              0.765517\nName: tifa_score, dtype: float64"
     },
     "execution_count": 8,
     "metadata": {},
     "output_type": "execute_result"
    }
   ],
   "source": [
    "tifa_infos.groupby([\"category\"])[\"tifa_score\"].mean()"
   ],
   "metadata": {
    "collapsed": false,
    "ExecuteTime": {
     "end_time": "2024-08-02T06:13:35.786813400Z",
     "start_time": "2024-08-02T06:13:35.579426700Z"
    }
   },
   "id": "4b5e8993d122e10f"
  },
  {
   "cell_type": "code",
   "execution_count": 20,
   "outputs": [
    {
     "data": {
      "text/plain": "<Figure size 640x480 with 1 Axes>",
      "image/png": "[encoded data removed]"
     },
     "metadata": {},
     "output_type": "display_data"
    }
   ],
   "source": [
    "import matplotlib.pyplot as plt\n",
    "\n",
    "categories = tifa_infos[\"category\"].unique()\n",
    "fig, ax = plt.subplots(layout='constrained')\n",
    "#fig.set_figheight(3)\n",
    "#fig.set_figwidth(9)\n",
    "ax.set_prop_cycle(\"color\", ['7e4794', '#31946B', '#008dff', '#e25759', \"#f0c571\", '#6BCE00', '#9d2c00', '#a1a1a1'])\n",
    "\n",
    "for model, scores in tifa_infos.groupby([\"model\"]):\n",
    "    category_avg = [scores[scores.category == category][\"tifa_score\"].mean() for category in categories]\n",
    "    ax.plot(category_avg, label=model)\n",
    "    \n",
    "ax.set_xticks(list(range(len(categories))), [c.replace('/', '/\\n').replace(' ', ' \\n') for c in categories])\n",
    "ax.tick_params(axis='x', labelrotation=90)\n",
    "\n",
    "ax.set_ylim(0.2, 1.01)\n",
    "ax.set_xlim(-0.1, 16.4)#10.7)\n",
    "#plt.legend(loc=\"center\", ncols=2)\n",
    "plt.legend(fontsize=\"small\", loc=\"lower right\", ncols=1)\n",
    "plt.show()"
   ],
   "metadata": {
    "collapsed": false,
    "ExecuteTime": {
     "end_time": "2024-08-02T06:24:15.487978800Z",
     "start_time": "2024-08-02T06:24:13.994275400Z"
    }
   },
   "id": "5d24cc86437c86cb"
  },
  {
   "cell_type": "markdown",
   "id": "23cd77074cf2bd74",
   "metadata": {
    "collapsed": false
   },
   "source": [
    "## Select best tifa images / image"
   ]
  },
  {
   "cell_type": "code",
   "execution_count": 33,
   "id": "1a283a27afdf91e8",
   "metadata": {
    "ExecuteTime": {
     "end_time": "2024-07-16T11:23:21.327320300Z",
     "start_time": "2024-07-16T11:23:21.205789Z"
    },
    "collapsed": false
   },
   "outputs": [
    {
     "data": {
      "text/html": [
       "<div>\n",
       "<style scoped>\n",
       "    .dataframe tbody tr th:only-of-type {\n",
       "        vertical-align: middle;\n",
       "    }\n",
       "\n",
       "    .dataframe tbody tr th {\n",
       "        vertical-align: top;\n",
       "    }\n",
       "\n",
       "    .dataframe thead th {\n",
       "        text-align: right;\n",
       "    }\n",
       "</style>\n",
       "<table border=\"1\" class=\"dataframe\">\n",
       "  <thead>\n",
       "    <tr style=\"text-align: right;\">\n",
       "      <th></th>\n",
       "      <th>name</th>\n",
       "      <th>model</th>\n",
       "      <th>id</th>\n",
       "      <th>description</th>\n",
       "      <th>tifa_score</th>\n",
       "      <th>question_details</th>\n",
       "    </tr>\n",
       "  </thead>\n",
       "  <tbody>\n",
       "    <tr>\n",
       "      <th>4</th>\n",
       "      <td>Exchange on the Internet</td>\n",
       "      <td>DALLE-3</td>\n",
       "      <td>0</td>\n",
       "      <td>In the middle, there is a globe depicted. Arou...</td>\n",
       "      <td>1.000</td>\n",
       "      <td>{'are there individuals depicted?': {'caption'...</td>\n",
       "    </tr>\n",
       "    <tr>\n",
       "      <th>5</th>\n",
       "      <td>Exchange on the Internet</td>\n",
       "      <td>DALLE-3</td>\n",
       "      <td>1</td>\n",
       "      <td>In the middle, there is a globe depicted. Arou...</td>\n",
       "      <td>1.000</td>\n",
       "      <td>{'are there individuals depicted?': {'caption'...</td>\n",
       "    </tr>\n",
       "    <tr>\n",
       "      <th>6</th>\n",
       "      <td>Exchange on the Internet</td>\n",
       "      <td>DALLE-3</td>\n",
       "      <td>2</td>\n",
       "      <td>In the middle, there is a globe depicted. Arou...</td>\n",
       "      <td>1.000</td>\n",
       "      <td>{'are there individuals depicted?': {'caption'...</td>\n",
       "    </tr>\n",
       "    <tr>\n",
       "      <th>7</th>\n",
       "      <td>Exchange on the Internet</td>\n",
       "      <td>DALLE-3</td>\n",
       "      <td>3</td>\n",
       "      <td>In the middle, there is a globe depicted. Arou...</td>\n",
       "      <td>1.000</td>\n",
       "      <td>{'are there individuals depicted?': {'caption'...</td>\n",
       "    </tr>\n",
       "    <tr>\n",
       "      <th>8</th>\n",
       "      <td>Despair</td>\n",
       "      <td>DALLE-3</td>\n",
       "      <td>0</td>\n",
       "      <td>A woman covers her face with both hands. She c...</td>\n",
       "      <td>0.875</td>\n",
       "      <td>{'who is covering her face with both hands?': ...</td>\n",
       "    </tr>\n",
       "    <tr>\n",
       "      <th>...</th>\n",
       "      <td>...</td>\n",
       "      <td>...</td>\n",
       "      <td>...</td>\n",
       "      <td>...</td>\n",
       "      <td>...</td>\n",
       "      <td>...</td>\n",
       "    </tr>\n",
       "    <tr>\n",
       "      <th>2317</th>\n",
       "      <td>Being Deaf</td>\n",
       "      <td>SD_3</td>\n",
       "      <td>3</td>\n",
       "      <td>Depicted are two persons facing each other. On...</td>\n",
       "      <td>0.800</td>\n",
       "      <td>{'is one person communicating in sign language...</td>\n",
       "    </tr>\n",
       "    <tr>\n",
       "      <th>2318</th>\n",
       "      <td>Being Blind</td>\n",
       "      <td>SD_3</td>\n",
       "      <td>0</td>\n",
       "      <td>Depicted is a man holding a long cane in his h...</td>\n",
       "      <td>0.500</td>\n",
       "      <td>{'is the man holding a cane?': {'caption': 'De...</td>\n",
       "    </tr>\n",
       "    <tr>\n",
       "      <th>2319</th>\n",
       "      <td>Being Blind</td>\n",
       "      <td>SD_3</td>\n",
       "      <td>1</td>\n",
       "      <td>Depicted is a man holding a long cane in his h...</td>\n",
       "      <td>0.500</td>\n",
       "      <td>{'is the man holding a cane?': {'caption': 'De...</td>\n",
       "    </tr>\n",
       "    <tr>\n",
       "      <th>2320</th>\n",
       "      <td>Being Blind</td>\n",
       "      <td>SD_3</td>\n",
       "      <td>2</td>\n",
       "      <td>Depicted is a man holding a long cane in his h...</td>\n",
       "      <td>0.750</td>\n",
       "      <td>{'is the man holding a cane?': {'caption': 'De...</td>\n",
       "    </tr>\n",
       "    <tr>\n",
       "      <th>2321</th>\n",
       "      <td>Being Blind</td>\n",
       "      <td>SD_3</td>\n",
       "      <td>3</td>\n",
       "      <td>Depicted is a man holding a long cane in his h...</td>\n",
       "      <td>0.500</td>\n",
       "      <td>{'is the man holding a cane?': {'caption': 'De...</td>\n",
       "    </tr>\n",
       "  </tbody>\n",
       "</table>\n",
       "<p>2266 rows × 6 columns</p>\n",
       "</div>"
      ],
      "text/plain": [
       "                          name    model id  \\\n",
       "4     Exchange on the Internet  DALLE-3  0   \n",
       "5     Exchange on the Internet  DALLE-3  1   \n",
       "6     Exchange on the Internet  DALLE-3  2   \n",
       "7     Exchange on the Internet  DALLE-3  3   \n",
       "8                      Despair  DALLE-3  0   \n",
       "...                        ...      ... ..   \n",
       "2317                Being Deaf     SD_3  3   \n",
       "2318               Being Blind     SD_3  0   \n",
       "2319               Being Blind     SD_3  1   \n",
       "2320               Being Blind     SD_3  2   \n",
       "2321               Being Blind     SD_3  3   \n",
       "\n",
       "                                            description  tifa_score  \\\n",
       "4     In the middle, there is a globe depicted. Arou...       1.000   \n",
       "5     In the middle, there is a globe depicted. Arou...       1.000   \n",
       "6     In the middle, there is a globe depicted. Arou...       1.000   \n",
       "7     In the middle, there is a globe depicted. Arou...       1.000   \n",
       "8     A woman covers her face with both hands. She c...       0.875   \n",
       "...                                                 ...         ...   \n",
       "2317  Depicted are two persons facing each other. On...       0.800   \n",
       "2318  Depicted is a man holding a long cane in his h...       0.500   \n",
       "2319  Depicted is a man holding a long cane in his h...       0.500   \n",
       "2320  Depicted is a man holding a long cane in his h...       0.750   \n",
       "2321  Depicted is a man holding a long cane in his h...       0.500   \n",
       "\n",
       "                                       question_details  \n",
       "4     {'are there individuals depicted?': {'caption'...  \n",
       "5     {'are there individuals depicted?': {'caption'...  \n",
       "6     {'are there individuals depicted?': {'caption'...  \n",
       "7     {'are there individuals depicted?': {'caption'...  \n",
       "8     {'who is covering her face with both hands?': ...  \n",
       "...                                                 ...  \n",
       "2317  {'is one person communicating in sign language...  \n",
       "2318  {'is the man holding a cane?': {'caption': 'De...  \n",
       "2319  {'is the man holding a cane?': {'caption': 'De...  \n",
       "2320  {'is the man holding a cane?': {'caption': 'De...  \n",
       "2321  {'is the man holding a cane?': {'caption': 'De...  \n",
       "\n",
       "[2266 rows x 6 columns]"
      ]
     },
     "execution_count": 33,
     "metadata": {},
     "output_type": "execute_result"
    }
   ],
   "source": [
    "tifa_scores_mplug"
   ]
  },
  {
   "cell_type": "code",
   "execution_count": 38,
   "id": "a0f906445ca13504",
   "metadata": {
    "ExecuteTime": {
     "end_time": "2024-07-16T11:30:27.548266400Z",
     "start_time": "2024-07-16T11:30:25.379590600Z"
    },
    "collapsed": false
   },
   "outputs": [
    {
     "name": "stderr",
     "output_type": "stream",
     "text": [
      "C:\\Users\\Miriam\\AppData\\Local\\Temp\\ipykernel_12988\\684293908.py:1: DeprecationWarning: DataFrameGroupBy.apply operated on the grouping columns. This behavior is deprecated, and in a future version of pandas the grouping columns will be excluded from the operation. Either pass `include_groups=False` to exclude the groupings or explicitly select the grouping columns after groupby to silence this warning.\n",
      "  tifa_scores_mplug.groupby([\"name\", \"model\"]).apply(lambda x: x.nlargest(1, \"tifa_score\")).reset_index(drop=True)\n"
     ]
    },
    {
     "data": {
      "text/html": [
       "<div>\n",
       "<style scoped>\n",
       "    .dataframe tbody tr th:only-of-type {\n",
       "        vertical-align: middle;\n",
       "    }\n",
       "\n",
       "    .dataframe tbody tr th {\n",
       "        vertical-align: top;\n",
       "    }\n",
       "\n",
       "    .dataframe thead th {\n",
       "        text-align: right;\n",
       "    }\n",
       "</style>\n",
       "<table border=\"1\" class=\"dataframe\">\n",
       "  <thead>\n",
       "    <tr style=\"text-align: right;\">\n",
       "      <th></th>\n",
       "      <th>name</th>\n",
       "      <th>model</th>\n",
       "      <th>id</th>\n",
       "      <th>description</th>\n",
       "      <th>tifa_score</th>\n",
       "      <th>question_details</th>\n",
       "    </tr>\n",
       "  </thead>\n",
       "  <tbody>\n",
       "    <tr>\n",
       "      <th>0</th>\n",
       "      <td>Adult with Heart Defect</td>\n",
       "      <td>DALLE-3</td>\n",
       "      <td>0</td>\n",
       "      <td>A man looks down at his chest. His heart is de...</td>\n",
       "      <td>1.0</td>\n",
       "      <td>{'who is looking down at his chest?': {'captio...</td>\n",
       "    </tr>\n",
       "    <tr>\n",
       "      <th>1</th>\n",
       "      <td>Adult with Heart Defect</td>\n",
       "      <td>Midjourney</td>\n",
       "      <td>1</td>\n",
       "      <td>A man looks down at his chest. His heart is de...</td>\n",
       "      <td>1.0</td>\n",
       "      <td>{'who is looking down at his chest?': {'captio...</td>\n",
       "    </tr>\n",
       "    <tr>\n",
       "      <th>2</th>\n",
       "      <td>Adult with Heart Defect</td>\n",
       "      <td>SD1_4</td>\n",
       "      <td>0</td>\n",
       "      <td>A man looks down at his chest. His heart is de...</td>\n",
       "      <td>1.0</td>\n",
       "      <td>{'who is looking down at his chest?': {'captio...</td>\n",
       "    </tr>\n",
       "    <tr>\n",
       "      <th>3</th>\n",
       "      <td>Adult with Heart Defect</td>\n",
       "      <td>SD2_1_base</td>\n",
       "      <td>1</td>\n",
       "      <td>A man looks down at his chest. His heart is de...</td>\n",
       "      <td>1.0</td>\n",
       "      <td>{'who is looking down at his chest?': {'captio...</td>\n",
       "    </tr>\n",
       "    <tr>\n",
       "      <th>4</th>\n",
       "      <td>Adult with Heart Defect</td>\n",
       "      <td>SD_3</td>\n",
       "      <td>0</td>\n",
       "      <td>A man looks down at his chest. His heart is de...</td>\n",
       "      <td>1.0</td>\n",
       "      <td>{'who is looking down at his chest?': {'captio...</td>\n",
       "    </tr>\n",
       "    <tr>\n",
       "      <th>...</th>\n",
       "      <td>...</td>\n",
       "      <td>...</td>\n",
       "      <td>...</td>\n",
       "      <td>...</td>\n",
       "      <td>...</td>\n",
       "      <td>...</td>\n",
       "    </tr>\n",
       "    <tr>\n",
       "      <th>628</th>\n",
       "      <td>Yoga</td>\n",
       "      <td>SD2_1_base</td>\n",
       "      <td>0</td>\n",
       "      <td>Three people are shown on mats, and one person...</td>\n",
       "      <td>0.6</td>\n",
       "      <td>{'who is on mats?': {'caption': 'Three people ...</td>\n",
       "    </tr>\n",
       "    <tr>\n",
       "      <th>629</th>\n",
       "      <td>Yoga</td>\n",
       "      <td>SD_3</td>\n",
       "      <td>0</td>\n",
       "      <td>Three people are shown on mats, and one person...</td>\n",
       "      <td>0.8</td>\n",
       "      <td>{'who is on mats?': {'caption': 'Three people ...</td>\n",
       "    </tr>\n",
       "    <tr>\n",
       "      <th>630</th>\n",
       "      <td>Yoga</td>\n",
       "      <td>Wuerstchen</td>\n",
       "      <td>2</td>\n",
       "      <td>Three people are shown on mats, and one person...</td>\n",
       "      <td>0.8</td>\n",
       "      <td>{'who is on mats?': {'caption': 'Three people ...</td>\n",
       "    </tr>\n",
       "    <tr>\n",
       "      <th>631</th>\n",
       "      <td>Yoga</td>\n",
       "      <td>artbreeder</td>\n",
       "      <td>2</td>\n",
       "      <td>Three people are shown on mats, and one person...</td>\n",
       "      <td>0.6</td>\n",
       "      <td>{'who is on mats?': {'caption': 'Three people ...</td>\n",
       "    </tr>\n",
       "    <tr>\n",
       "      <th>632</th>\n",
       "      <td>Yoga</td>\n",
       "      <td>references</td>\n",
       "      <td>../images/references//Yoga</td>\n",
       "      <td>Three people are shown on mats, and one person...</td>\n",
       "      <td>0.8</td>\n",
       "      <td>{'who is on mats?': {'caption': 'Three people ...</td>\n",
       "    </tr>\n",
       "  </tbody>\n",
       "</table>\n",
       "<p>633 rows × 6 columns</p>\n",
       "</div>"
      ],
      "text/plain": [
       "                        name       model                          id  \\\n",
       "0    Adult with Heart Defect     DALLE-3                           0   \n",
       "1    Adult with Heart Defect  Midjourney                           1   \n",
       "2    Adult with Heart Defect       SD1_4                           0   \n",
       "3    Adult with Heart Defect  SD2_1_base                           1   \n",
       "4    Adult with Heart Defect        SD_3                           0   \n",
       "..                       ...         ...                         ...   \n",
       "628                     Yoga  SD2_1_base                           0   \n",
       "629                     Yoga        SD_3                           0   \n",
       "630                     Yoga  Wuerstchen                           2   \n",
       "631                     Yoga  artbreeder                           2   \n",
       "632                     Yoga  references  ../images/references//Yoga   \n",
       "\n",
       "                                           description  tifa_score  \\\n",
       "0    A man looks down at his chest. His heart is de...         1.0   \n",
       "1    A man looks down at his chest. His heart is de...         1.0   \n",
       "2    A man looks down at his chest. His heart is de...         1.0   \n",
       "3    A man looks down at his chest. His heart is de...         1.0   \n",
       "4    A man looks down at his chest. His heart is de...         1.0   \n",
       "..                                                 ...         ...   \n",
       "628  Three people are shown on mats, and one person...         0.6   \n",
       "629  Three people are shown on mats, and one person...         0.8   \n",
       "630  Three people are shown on mats, and one person...         0.8   \n",
       "631  Three people are shown on mats, and one person...         0.6   \n",
       "632  Three people are shown on mats, and one person...         0.8   \n",
       "\n",
       "                                      question_details  \n",
       "0    {'who is looking down at his chest?': {'captio...  \n",
       "1    {'who is looking down at his chest?': {'captio...  \n",
       "2    {'who is looking down at his chest?': {'captio...  \n",
       "3    {'who is looking down at his chest?': {'captio...  \n",
       "4    {'who is looking down at his chest?': {'captio...  \n",
       "..                                                 ...  \n",
       "628  {'who is on mats?': {'caption': 'Three people ...  \n",
       "629  {'who is on mats?': {'caption': 'Three people ...  \n",
       "630  {'who is on mats?': {'caption': 'Three people ...  \n",
       "631  {'who is on mats?': {'caption': 'Three people ...  \n",
       "632  {'who is on mats?': {'caption': 'Three people ...  \n",
       "\n",
       "[633 rows x 6 columns]"
      ]
     },
     "execution_count": 38,
     "metadata": {},
     "output_type": "execute_result"
    }
   ],
   "source": [
    "tifa_scores_mplug.groupby([\"name\", \"model\"]).apply(lambda x: x.nlargest(1, \"tifa_score\")).reset_index(drop=True)"
   ]
  },
  {
   "cell_type": "code",
   "execution_count": 45,
   "id": "9142f6eb066d6b",
   "metadata": {
    "ExecuteTime": {
     "end_time": "2024-07-16T11:51:24.097341200Z",
     "start_time": "2024-07-16T11:51:24.032065Z"
    },
    "collapsed": false
   },
   "outputs": [
    {
     "data": {
      "text/html": [
       "<div>\n",
       "<style scoped>\n",
       "    .dataframe tbody tr th:only-of-type {\n",
       "        vertical-align: middle;\n",
       "    }\n",
       "\n",
       "    .dataframe tbody tr th {\n",
       "        vertical-align: top;\n",
       "    }\n",
       "\n",
       "    .dataframe thead th {\n",
       "        text-align: right;\n",
       "    }\n",
       "</style>\n",
       "<table border=\"1\" class=\"dataframe\">\n",
       "  <thead>\n",
       "    <tr style=\"text-align: right;\">\n",
       "      <th></th>\n",
       "      <th>name</th>\n",
       "      <th>model</th>\n",
       "      <th>id</th>\n",
       "      <th>description</th>\n",
       "      <th>tifa_score</th>\n",
       "      <th>question_details</th>\n",
       "    </tr>\n",
       "  </thead>\n",
       "  <tbody>\n",
       "    <tr>\n",
       "      <th>143</th>\n",
       "      <td>Adult with Heart Defect</td>\n",
       "      <td>DALLE-3</td>\n",
       "      <td>0</td>\n",
       "      <td>A man looks down at his chest. His heart is de...</td>\n",
       "      <td>1.0</td>\n",
       "      <td>{'who is looking down at his chest?': {'captio...</td>\n",
       "    </tr>\n",
       "    <tr>\n",
       "      <th>454</th>\n",
       "      <td>Adult with Heart Defect</td>\n",
       "      <td>Midjourney</td>\n",
       "      <td>1</td>\n",
       "      <td>A man looks down at his chest. His heart is de...</td>\n",
       "      <td>1.0</td>\n",
       "      <td>{'who is looking down at his chest?': {'captio...</td>\n",
       "    </tr>\n",
       "    <tr>\n",
       "      <th>1101</th>\n",
       "      <td>Adult with Heart Defect</td>\n",
       "      <td>SD1_4</td>\n",
       "      <td>0</td>\n",
       "      <td>A man looks down at his chest. His heart is de...</td>\n",
       "      <td>1.0</td>\n",
       "      <td>{'who is looking down at his chest?': {'captio...</td>\n",
       "    </tr>\n",
       "    <tr>\n",
       "      <th>1426</th>\n",
       "      <td>Adult with Heart Defect</td>\n",
       "      <td>SD2_1_base</td>\n",
       "      <td>1</td>\n",
       "      <td>A man looks down at his chest. His heart is de...</td>\n",
       "      <td>1.0</td>\n",
       "      <td>{'who is looking down at his chest?': {'captio...</td>\n",
       "    </tr>\n",
       "    <tr>\n",
       "      <th>2154</th>\n",
       "      <td>Adult with Heart Defect</td>\n",
       "      <td>SD_3</td>\n",
       "      <td>0</td>\n",
       "      <td>A man looks down at his chest. His heart is de...</td>\n",
       "      <td>1.0</td>\n",
       "      <td>{'who is looking down at his chest?': {'captio...</td>\n",
       "    </tr>\n",
       "    <tr>\n",
       "      <th>...</th>\n",
       "      <td>...</td>\n",
       "      <td>...</td>\n",
       "      <td>...</td>\n",
       "      <td>...</td>\n",
       "      <td>...</td>\n",
       "      <td>...</td>\n",
       "    </tr>\n",
       "    <tr>\n",
       "      <th>1441</th>\n",
       "      <td>Yoga</td>\n",
       "      <td>SD2_1_base</td>\n",
       "      <td>0</td>\n",
       "      <td>Three people are shown on mats, and one person...</td>\n",
       "      <td>0.6</td>\n",
       "      <td>{'who is on mats?': {'caption': 'Three people ...</td>\n",
       "    </tr>\n",
       "    <tr>\n",
       "      <th>2170</th>\n",
       "      <td>Yoga</td>\n",
       "      <td>SD_3</td>\n",
       "      <td>0</td>\n",
       "      <td>Three people are shown on mats, and one person...</td>\n",
       "      <td>0.8</td>\n",
       "      <td>{'who is on mats?': {'caption': 'Three people ...</td>\n",
       "    </tr>\n",
       "    <tr>\n",
       "      <th>1767</th>\n",
       "      <td>Yoga</td>\n",
       "      <td>Wuerstchen</td>\n",
       "      <td>2</td>\n",
       "      <td>Three people are shown on mats, and one person...</td>\n",
       "      <td>0.8</td>\n",
       "      <td>{'who is on mats?': {'caption': 'Three people ...</td>\n",
       "    </tr>\n",
       "    <tr>\n",
       "      <th>795</th>\n",
       "      <td>Yoga</td>\n",
       "      <td>artbreeder</td>\n",
       "      <td>2</td>\n",
       "      <td>Three people are shown on mats, and one person...</td>\n",
       "      <td>0.6</td>\n",
       "      <td>{'who is on mats?': {'caption': 'Three people ...</td>\n",
       "    </tr>\n",
       "    <tr>\n",
       "      <th>1964</th>\n",
       "      <td>Yoga</td>\n",
       "      <td>references</td>\n",
       "      <td>../images/references//Yoga</td>\n",
       "      <td>Three people are shown on mats, and one person...</td>\n",
       "      <td>0.8</td>\n",
       "      <td>{'who is on mats?': {'caption': 'Three people ...</td>\n",
       "    </tr>\n",
       "  </tbody>\n",
       "</table>\n",
       "<p>633 rows × 6 columns</p>\n",
       "</div>"
      ],
      "text/plain": [
       "                         name       model                          id  \\\n",
       "143   Adult with Heart Defect     DALLE-3                           0   \n",
       "454   Adult with Heart Defect  Midjourney                           1   \n",
       "1101  Adult with Heart Defect       SD1_4                           0   \n",
       "1426  Adult with Heart Defect  SD2_1_base                           1   \n",
       "2154  Adult with Heart Defect        SD_3                           0   \n",
       "...                       ...         ...                         ...   \n",
       "1441                     Yoga  SD2_1_base                           0   \n",
       "2170                     Yoga        SD_3                           0   \n",
       "1767                     Yoga  Wuerstchen                           2   \n",
       "795                      Yoga  artbreeder                           2   \n",
       "1964                     Yoga  references  ../images/references//Yoga   \n",
       "\n",
       "                                            description  tifa_score  \\\n",
       "143   A man looks down at his chest. His heart is de...         1.0   \n",
       "454   A man looks down at his chest. His heart is de...         1.0   \n",
       "1101  A man looks down at his chest. His heart is de...         1.0   \n",
       "1426  A man looks down at his chest. His heart is de...         1.0   \n",
       "2154  A man looks down at his chest. His heart is de...         1.0   \n",
       "...                                                 ...         ...   \n",
       "1441  Three people are shown on mats, and one person...         0.6   \n",
       "2170  Three people are shown on mats, and one person...         0.8   \n",
       "1767  Three people are shown on mats, and one person...         0.8   \n",
       "795   Three people are shown on mats, and one person...         0.6   \n",
       "1964  Three people are shown on mats, and one person...         0.8   \n",
       "\n",
       "                                       question_details  \n",
       "143   {'who is looking down at his chest?': {'captio...  \n",
       "454   {'who is looking down at his chest?': {'captio...  \n",
       "1101  {'who is looking down at his chest?': {'captio...  \n",
       "1426  {'who is looking down at his chest?': {'captio...  \n",
       "2154  {'who is looking down at his chest?': {'captio...  \n",
       "...                                                 ...  \n",
       "1441  {'who is on mats?': {'caption': 'Three people ...  \n",
       "2170  {'who is on mats?': {'caption': 'Three people ...  \n",
       "1767  {'who is on mats?': {'caption': 'Three people ...  \n",
       "795   {'who is on mats?': {'caption': 'Three people ...  \n",
       "1964  {'who is on mats?': {'caption': 'Three people ...  \n",
       "\n",
       "[633 rows x 6 columns]"
      ]
     },
     "execution_count": 45,
     "metadata": {},
     "output_type": "execute_result"
    }
   ],
   "source": [
    "idx = tifa_scores_mplug.groupby([\"name\", \"model\"])[\"tifa_score\"].idxmax()\n",
    "tifa_scores_mplug.loc[idx]"
   ]
  },
  {
   "cell_type": "code",
   "execution_count": 2,
   "id": "4103265e877aed89",
   "metadata": {
    "ExecuteTime": {
     "end_time": "2024-07-16T14:20:44.438761500Z",
     "start_time": "2024-07-16T14:20:44.400083700Z"
    },
    "collapsed": false
   },
   "outputs": [
    {
     "name": "stderr",
     "output_type": "stream",
     "text": [
      "C:\\Users\\Miriam\\AppData\\Local\\Temp\\ipykernel_2056\\3317303043.py:1: FutureWarning: The provided callable <built-in function max> is currently using SeriesGroupBy.max. In a future version of pandas, the provided callable will be used directly. To keep current behavior pass the string \"max\" instead.\n",
      "  max_tifas = tifa_scores_mplug.loc[tifa_scores_mplug.groupby([\"name\", \"model\"])[\"tifa_score\"].transform(max) == tifa_scores_mplug[\"tifa_score\"]]\n"
     ]
    },
    {
     "data": {
      "text/html": [
       "<div>\n",
       "<style scoped>\n",
       "    .dataframe tbody tr th:only-of-type {\n",
       "        vertical-align: middle;\n",
       "    }\n",
       "\n",
       "    .dataframe tbody tr th {\n",
       "        vertical-align: top;\n",
       "    }\n",
       "\n",
       "    .dataframe thead th {\n",
       "        text-align: right;\n",
       "    }\n",
       "</style>\n",
       "<table border=\"1\" class=\"dataframe\">\n",
       "  <thead>\n",
       "    <tr style=\"text-align: right;\">\n",
       "      <th></th>\n",
       "      <th>name</th>\n",
       "      <th>model</th>\n",
       "      <th>id</th>\n",
       "      <th>description</th>\n",
       "      <th>tifa_score</th>\n",
       "      <th>question_details</th>\n",
       "    </tr>\n",
       "  </thead>\n",
       "  <tbody>\n",
       "    <tr>\n",
       "      <th>0</th>\n",
       "      <td>Endometriosis</td>\n",
       "      <td>DALLE-3</td>\n",
       "      <td>0</td>\n",
       "      <td>This is a chronic condition in women where the...</td>\n",
       "      <td>0.000</td>\n",
       "      <td>{'all_black': True}</td>\n",
       "    </tr>\n",
       "    <tr>\n",
       "      <th>1</th>\n",
       "      <td>Endometriosis</td>\n",
       "      <td>DALLE-3</td>\n",
       "      <td>1</td>\n",
       "      <td>This is a chronic condition in women where the...</td>\n",
       "      <td>0.000</td>\n",
       "      <td>{'all_black': True}</td>\n",
       "    </tr>\n",
       "    <tr>\n",
       "      <th>2</th>\n",
       "      <td>Endometriosis</td>\n",
       "      <td>DALLE-3</td>\n",
       "      <td>2</td>\n",
       "      <td>This is a chronic condition in women where the...</td>\n",
       "      <td>0.000</td>\n",
       "      <td>{'all_black': True}</td>\n",
       "    </tr>\n",
       "    <tr>\n",
       "      <th>3</th>\n",
       "      <td>Endometriosis</td>\n",
       "      <td>DALLE-3</td>\n",
       "      <td>3</td>\n",
       "      <td>This is a chronic condition in women where the...</td>\n",
       "      <td>0.000</td>\n",
       "      <td>{'all_black': True}</td>\n",
       "    </tr>\n",
       "    <tr>\n",
       "      <th>4</th>\n",
       "      <td>Exchange on the Internet</td>\n",
       "      <td>DALLE-3</td>\n",
       "      <td>0</td>\n",
       "      <td>In the middle, there is a globe depicted. Arou...</td>\n",
       "      <td>1.000</td>\n",
       "      <td>{'are there individuals depicted?': {'caption'...</td>\n",
       "    </tr>\n",
       "    <tr>\n",
       "      <th>...</th>\n",
       "      <td>...</td>\n",
       "      <td>...</td>\n",
       "      <td>...</td>\n",
       "      <td>...</td>\n",
       "      <td>...</td>\n",
       "      <td>...</td>\n",
       "    </tr>\n",
       "    <tr>\n",
       "      <th>2311</th>\n",
       "      <td>Poor Memory Performance</td>\n",
       "      <td>SD_3</td>\n",
       "      <td>1</td>\n",
       "      <td>A woman holds her forehead thoughtfully. Quest...</td>\n",
       "      <td>0.875</td>\n",
       "      <td>{'who is holding her forehead thoughtfully?': ...</td>\n",
       "    </tr>\n",
       "    <tr>\n",
       "      <th>2314</th>\n",
       "      <td>Being Deaf</td>\n",
       "      <td>SD_3</td>\n",
       "      <td>0</td>\n",
       "      <td>Depicted are two persons facing each other. On...</td>\n",
       "      <td>0.800</td>\n",
       "      <td>{'is one person communicating in sign language...</td>\n",
       "    </tr>\n",
       "    <tr>\n",
       "      <th>2316</th>\n",
       "      <td>Being Deaf</td>\n",
       "      <td>SD_3</td>\n",
       "      <td>2</td>\n",
       "      <td>Depicted are two persons facing each other. On...</td>\n",
       "      <td>0.800</td>\n",
       "      <td>{'is one person communicating in sign language...</td>\n",
       "    </tr>\n",
       "    <tr>\n",
       "      <th>2317</th>\n",
       "      <td>Being Deaf</td>\n",
       "      <td>SD_3</td>\n",
       "      <td>3</td>\n",
       "      <td>Depicted are two persons facing each other. On...</td>\n",
       "      <td>0.800</td>\n",
       "      <td>{'is one person communicating in sign language...</td>\n",
       "    </tr>\n",
       "    <tr>\n",
       "      <th>2320</th>\n",
       "      <td>Being Blind</td>\n",
       "      <td>SD_3</td>\n",
       "      <td>2</td>\n",
       "      <td>Depicted is a man holding a long cane in his h...</td>\n",
       "      <td>0.750</td>\n",
       "      <td>{'is the man holding a cane?': {'caption': 'De...</td>\n",
       "    </tr>\n",
       "  </tbody>\n",
       "</table>\n",
       "<p>1175 rows × 6 columns</p>\n",
       "</div>"
      ],
      "text/plain": [
       "                          name    model id  \\\n",
       "0                Endometriosis  DALLE-3  0   \n",
       "1                Endometriosis  DALLE-3  1   \n",
       "2                Endometriosis  DALLE-3  2   \n",
       "3                Endometriosis  DALLE-3  3   \n",
       "4     Exchange on the Internet  DALLE-3  0   \n",
       "...                        ...      ... ..   \n",
       "2311   Poor Memory Performance     SD_3  1   \n",
       "2314                Being Deaf     SD_3  0   \n",
       "2316                Being Deaf     SD_3  2   \n",
       "2317                Being Deaf     SD_3  3   \n",
       "2320               Being Blind     SD_3  2   \n",
       "\n",
       "                                            description  tifa_score  \\\n",
       "0     This is a chronic condition in women where the...       0.000   \n",
       "1     This is a chronic condition in women where the...       0.000   \n",
       "2     This is a chronic condition in women where the...       0.000   \n",
       "3     This is a chronic condition in women where the...       0.000   \n",
       "4     In the middle, there is a globe depicted. Arou...       1.000   \n",
       "...                                                 ...         ...   \n",
       "2311  A woman holds her forehead thoughtfully. Quest...       0.875   \n",
       "2314  Depicted are two persons facing each other. On...       0.800   \n",
       "2316  Depicted are two persons facing each other. On...       0.800   \n",
       "2317  Depicted are two persons facing each other. On...       0.800   \n",
       "2320  Depicted is a man holding a long cane in his h...       0.750   \n",
       "\n",
       "                                       question_details  \n",
       "0                                   {'all_black': True}  \n",
       "1                                   {'all_black': True}  \n",
       "2                                   {'all_black': True}  \n",
       "3                                   {'all_black': True}  \n",
       "4     {'are there individuals depicted?': {'caption'...  \n",
       "...                                                 ...  \n",
       "2311  {'who is holding her forehead thoughtfully?': ...  \n",
       "2314  {'is one person communicating in sign language...  \n",
       "2316  {'is one person communicating in sign language...  \n",
       "2317  {'is one person communicating in sign language...  \n",
       "2320  {'is the man holding a cane?': {'caption': 'De...  \n",
       "\n",
       "[1175 rows x 6 columns]"
      ]
     },
     "execution_count": 2,
     "metadata": {},
     "output_type": "execute_result"
    }
   ],
   "source": [
    "max_tifas = tifa_scores_mplug.loc[tifa_scores_mplug.groupby([\"name\", \"model\"])[\"tifa_score\"].transform(max) == tifa_scores_mplug[\"tifa_score\"]]\n",
    "max_tifas = max_tifas[max_tifas.model != \"references\"]\n",
    "max_tifas"
   ]
  },
  {
   "cell_type": "code",
   "execution_count": null,
   "id": "4ce16d0bc33b8ce9",
   "metadata": {
    "collapsed": false
   },
   "outputs": [],
   "source": [
    "import shutil\n",
    "\n",
    "models = {\n",
    "    \"DALLE-3\": \".jpg\",\n",
    "    \"Midjourney\": \".png\",\n",
    "    \"artbreeder\": \".jfif\",\n",
    "    \"SD1_4\": \".png\",\n",
    "    \"SD2_1_base\": \".png\",\n",
    "    \"Wuerstchen\": \".png\",\n",
    "    #\"references/\": \".jpg\",\n",
    "    \"SD_3\": \".png\"\n",
    "}\n",
    "\n",
    "for _, row in max_tifas.iterrows():\n",
    "    model = row['model']\n",
    "    img_name = f\"{row['name'].replace(' ', '_')}_{row['id']}\"\n",
    "    shutil.copy(f\"../images/{model}/{img_name}{models[model]}\", f\"../images/best/{model}_{img_name}.png\")"
   ]
  },
  {
   "cell_type": "markdown",
   "source": [
    "## Investigate TIFA score"
   ],
   "metadata": {
    "collapsed": false
   },
   "id": "460289cc0e2e7c70"
  },
  {
   "cell_type": "code",
   "execution_count": 3,
   "outputs": [],
   "source": [
    "description = \"The arms of two persons are recognizable. One person is pointing to the word 'Application' written on top of a document. The other person is holding a pen ready to write.\"\n",
    "llama2_questions = [{'caption': \"The arms of two persons are recognizable. One person is pointing to the word 'Application' written on top of a document. The other person is holding a pen ready to write.\", 'element': 'arms', 'question': 'what part of the body is recognizable?', 'choices': ['arms', 'legs', 'hands', 'feet'], 'answer': 'arms', 'element_type': 'object'}, {'caption': \"The arms of two persons are recognizable. One person is pointing to the word 'Application' written on top of a document. The other person is holding a pen ready to write.\", 'element': 'persons', 'question': 'are there persons?', 'choices': ['yes', 'no'], 'answer': 'yes', 'element_type': 'animal/human'}, {'caption': \"The arms of two persons are recognizable. One person is pointing to the word 'Application' written on top of a document. The other person is holding a pen ready to write.\", 'element': 'persons', 'question': 'who are in the picture?', 'choices': ['persons', 'animals', 'robots', 'aliens'], 'answer': 'persons', 'element_type': 'animal/human'}, {'caption': \"The arms of two persons are recognizable. One person is pointing to the word 'Application' written on top of a document. The other person is holding a pen ready to write.\", 'element': 'word', 'question': 'is there a word written on top of a document?', 'choices': ['yes', 'no'], 'answer': 'yes', 'element_type': 'object'}, {'caption': \"The arms of two persons are recognizable. One person is pointing to the word 'Application' written on top of a document. The other person is holding a pen ready to write.\", 'element': 'word', 'question': 'what is written on top of a document?', 'choices': ['word', 'sentence', 'paragraph', 'story'], 'answer': 'word', 'element_type': 'object'}, {'caption': \"The arms of two persons are recognizable. One person is pointing to the word 'Application' written on top of a document. The other person is holding a pen ready to write.\", 'element': 'document', 'question': 'is there a document?', 'choices': ['yes', 'no'], 'answer': 'yes', 'element_type': 'object'}, {'caption': \"The arms of two persons are recognizable. One person is pointing to the word 'Application' written on top of a document. The other person is holding a pen ready to write.\", 'element': 'document', 'question': 'what type of document is this?', 'choices': ['document', 'book', 'magazine', 'newspaper'], 'answer': 'document', 'element_type': 'object'}, {'caption': \"The arms of two persons are recognizable. One person is pointing to the word 'Application' written on top of a document. The other person is holding a pen ready to write.\", 'element': 'pen', 'question': 'is there a pen?', 'choices': ['yes', 'no'], 'answer': 'yes', 'element_type': 'object'}, {'caption': \"The arms of two persons are recognizable. One person is pointing to the word 'Application' written on top of a document. The other person is holding a pen ready to write.\", 'element': 'pen', 'question': 'what type of writing instrument is this?', 'choices': ['pen', 'pencil', 'marker', 'crayon'], 'answer': 'pen', 'element_type': 'object'}, {'caption': \"The arms of two persons are recognizable. One person is pointing to the word 'Application' written on top of a document. The other person is holding a pen ready to write.\", 'element': 'pointing', 'question': \"is one person pointing to the word 'Application' written on top of a document?\", 'choices': ['yes', 'no'], 'answer': 'yes', 'element_type': 'activity'}]\n",
    "\n",
    "filtered_questions = [{'caption': \"The arms of two persons are recognizable. One person is pointing to the word 'Application' written on top of a document. The other person is holding a pen ready to write.\", 'element': 'persons', 'question': 'are there persons?', 'choices': ['yes', 'no'], 'answer': 'yes', 'element_type': 'animal/human'}, {'caption': \"The arms of two persons are recognizable. One person is pointing to the word 'Application' written on top of a document. The other person is holding a pen ready to write.\", 'element': 'persons', 'question': 'who are in the picture?', 'choices': ['persons', 'animals', 'robots', 'aliens'], 'answer': 'persons', 'element_type': 'animal/human'}, {'caption': \"The arms of two persons are recognizable. One person is pointing to the word 'Application' written on top of a document. The other person is holding a pen ready to write.\", 'element': 'word', 'question': 'is there a word written on top of a document?', 'choices': ['yes', 'no'], 'answer': 'yes', 'element_type': 'object'}, {'caption': \"The arms of two persons are recognizable. One person is pointing to the word 'Application' written on top of a document. The other person is holding a pen ready to write.\", 'element': 'document', 'question': 'is there a document?', 'choices': ['yes', 'no'], 'answer': 'yes', 'element_type': 'object'}, {'caption': \"The arms of two persons are recognizable. One person is pointing to the word 'Application' written on top of a document. The other person is holding a pen ready to write.\", 'element': 'pen', 'question': 'is there a pen?', 'choices': ['yes', 'no'], 'answer': 'yes', 'element_type': 'object'}, {'caption': \"The arms of two persons are recognizable. One person is pointing to the word 'Application' written on top of a document. The other person is holding a pen ready to write.\", 'element': 'pen', 'question': 'what type of writing instrument is this?', 'choices': ['pen', 'pencil', 'marker', 'crayon'], 'answer': 'pen', 'element_type': 'object'}, {'caption': \"The arms of two persons are recognizable. One person is pointing to the word 'Application' written on top of a document. The other person is holding a pen ready to write.\", 'element': 'pointing', 'question': \"is one person pointing to the word 'Application' written on top of a document?\", 'choices': ['yes', 'no'], 'answer': 'yes', 'element_type': 'activity'}]"
   ],
   "metadata": {
    "collapsed": false,
    "ExecuteTime": {
     "end_time": "2024-07-24T16:16:27.635222100Z",
     "start_time": "2024-07-24T16:16:27.599818400Z"
    }
   },
   "id": "67bfeedf8cf8e0f4"
  },
  {
   "cell_type": "code",
   "execution_count": 1,
   "outputs": [
    {
     "name": "stdout",
     "output_type": "stream",
     "text": [
      "Loading mplug-large...\n"
     ]
    },
    {
     "name": "stderr",
     "output_type": "stream",
     "text": [
      "2024-07-24 18:15:02,610 - modelscope - WARNING - Model revision not specified, use revision: v1.0.0\n",
      "2024-07-24 18:15:03,283 - modelscope - INFO - initiate model from C:\\Users\\Miriam\\.cache\\modelscope\\hub\\damo\\mplug_visual-question-answering_coco_large_en\n",
      "2024-07-24 18:15:03,285 - modelscope - INFO - initiate model from location C:\\Users\\Miriam\\.cache\\modelscope\\hub\\damo\\mplug_visual-question-answering_coco_large_en.\n",
      "2024-07-24 18:15:03,290 - modelscope - INFO - initialize model from C:\\Users\\Miriam\\.cache\\modelscope\\hub\\damo\\mplug_visual-question-answering_coco_large_en\n",
      "D:\\Documents\\workspaces\\PyCharm projects\\ExplainImageGen\\vision_venv\\lib\\site-packages\\transformers\\tokenization_utils_base.py:2057: FutureWarning: Calling BertTokenizer.from_pretrained() with the path to a single file or url is deprecated and won't be possible anymore in v5. Use a model identifier or the path to a directory instead.\n",
      "  warnings.warn(\n"
     ]
    },
    {
     "name": "stdout",
     "output_type": "stream",
     "text": [
      "load checkpoint from C:\\Users\\Miriam\\.cache\\modelscope\\hub\\damo\\mplug_visual-question-answering_coco_large_en\\pytorch_model.bin\n",
      "<All keys matched successfully>\n",
      "Finish loading mplug-large\n",
      "Using SBERT on GPU\n"
     ]
    }
   ],
   "source": [
    "from tifascore import tifa_score_single, VQAModel\n",
    "\n",
    "vqa_model = VQAModel(\"mplug-large\")"
   ],
   "metadata": {
    "collapsed": false,
    "ExecuteTime": {
     "end_time": "2024-07-24T16:15:58.178472800Z",
     "start_time": "2024-07-24T16:14:33.104488600Z"
    }
   },
   "id": "932bf092f5407c9a"
  },
  {
   "cell_type": "code",
   "execution_count": 4,
   "outputs": [
    {
     "name": "stderr",
     "output_type": "stream",
     "text": [
      "  0%|          | 0/7 [00:00<?, ?it/s]D:\\Documents\\workspaces\\PyCharm projects\\ExplainImageGen\\vision_venv\\lib\\site-packages\\torch\\utils\\checkpoint.py:464: UserWarning: torch.utils.checkpoint: the use_reentrant parameter should be passed explicitly. In version 2.4 we will raise an exception if use_reentrant is not passed. use_reentrant=False is recommended, but if you need to preserve the current default behavior, you can pass use_reentrant=True. Refer to docs for more details on the differences between the two variants.\n",
      "  warnings.warn(\n",
      "D:\\Documents\\workspaces\\PyCharm projects\\ExplainImageGen\\vision_venv\\lib\\site-packages\\torch\\utils\\checkpoint.py:91: UserWarning: None of the inputs have requires_grad=True. Gradients will be None\n",
      "  warnings.warn(\n",
      "D:\\Documents\\workspaces\\PyCharm projects\\ExplainImageGen\\vision_venv\\lib\\site-packages\\torch\\nn\\functional.py:5504: UserWarning: 1Torch was not compiled with flash attention. (Triggered internally at ..\\aten\\src\\ATen\\native\\transformers\\cuda\\sdp_utils.cpp:455.)\n",
      "  attn_output = scaled_dot_product_attention(q, k, v, attn_mask, dropout_p, is_causal)\n",
      "100%|██████████| 7/7 [00:24<00:00,  3.52s/it]"
     ]
    },
    {
     "name": "stdout",
     "output_type": "stream",
     "text": [
      "[1, 1, 1, 1, 1, 1, 1] 1\n"
     ]
    },
    {
     "name": "stderr",
     "output_type": "stream",
     "text": [
      "\n"
     ]
    },
    {
     "data": {
      "text/plain": "{'tifa_score': 1,\n 'question_details': {'are there persons?': {'caption': \"The arms of two persons are recognizable. One person is pointing to the word 'Application' written on top of a document. The other person is holding a pen ready to write.\",\n   'element': 'persons',\n   'question': 'are there persons?',\n   'choices': ['yes', 'no'],\n   'answer': 'yes',\n   'element_type': 'animal/human',\n   'free_form_vqa': 'yes',\n   'multiple_choice_vqa': 'yes',\n   'scores': 1},\n  'who are in the picture?': {'caption': \"The arms of two persons are recognizable. One person is pointing to the word 'Application' written on top of a document. The other person is holding a pen ready to write.\",\n   'element': 'persons',\n   'question': 'who are in the picture?',\n   'choices': ['persons', 'animals', 'robots', 'aliens'],\n   'answer': 'persons',\n   'element_type': 'animal/human',\n   'free_form_vqa': 'people',\n   'multiple_choice_vqa': 'persons',\n   'scores': 1},\n  'is there a word written on top of a document?': {'caption': \"The arms of two persons are recognizable. One person is pointing to the word 'Application' written on top of a document. The other person is holding a pen ready to write.\",\n   'element': 'word',\n   'question': 'is there a word written on top of a document?',\n   'choices': ['yes', 'no'],\n   'answer': 'yes',\n   'element_type': 'object',\n   'free_form_vqa': 'yes',\n   'multiple_choice_vqa': 'yes',\n   'scores': 1},\n  'is there a document?': {'caption': \"The arms of two persons are recognizable. One person is pointing to the word 'Application' written on top of a document. The other person is holding a pen ready to write.\",\n   'element': 'document',\n   'question': 'is there a document?',\n   'choices': ['yes', 'no'],\n   'answer': 'yes',\n   'element_type': 'object',\n   'free_form_vqa': 'yes',\n   'multiple_choice_vqa': 'yes',\n   'scores': 1},\n  'is there a pen?': {'caption': \"The arms of two persons are recognizable. One person is pointing to the word 'Application' written on top of a document. The other person is holding a pen ready to write.\",\n   'element': 'pen',\n   'question': 'is there a pen?',\n   'choices': ['yes', 'no'],\n   'answer': 'yes',\n   'element_type': 'object',\n   'free_form_vqa': 'yes',\n   'multiple_choice_vqa': 'yes',\n   'scores': 1},\n  'what type of writing instrument is this?': {'caption': \"The arms of two persons are recognizable. One person is pointing to the word 'Application' written on top of a document. The other person is holding a pen ready to write.\",\n   'element': 'pen',\n   'question': 'what type of writing instrument is this?',\n   'choices': ['pen', 'pencil', 'marker', 'crayon'],\n   'answer': 'pen',\n   'element_type': 'object',\n   'free_form_vqa': 'pen',\n   'multiple_choice_vqa': 'pen',\n   'scores': 1},\n  \"is one person pointing to the word 'Application' written on top of a document?\": {'caption': \"The arms of two persons are recognizable. One person is pointing to the word 'Application' written on top of a document. The other person is holding a pen ready to write.\",\n   'element': 'pointing',\n   'question': \"is one person pointing to the word 'Application' written on top of a document?\",\n   'choices': ['yes', 'no'],\n   'answer': 'yes',\n   'element_type': 'activity',\n   'free_form_vqa': 'yes',\n   'multiple_choice_vqa': 'yes',\n   'scores': 1}}}"
     },
     "execution_count": 4,
     "metadata": {},
     "output_type": "execute_result"
    }
   ],
   "source": [
    "from PIL import Image\n",
    "\n",
    "image = Image.open(\"../images/DALLE-3/Application_0.jpg\")\n",
    "\n",
    "tifa_res = tifa_score_single(vqa_model, filtered_questions, image)\n",
    "tifa_res"
   ],
   "metadata": {
    "collapsed": false,
    "ExecuteTime": {
     "end_time": "2024-07-24T16:16:54.420304800Z",
     "start_time": "2024-07-24T16:16:29.755161800Z"
    }
   },
   "id": "6974280d40dd70fd"
  },
  {
   "cell_type": "code",
   "execution_count": 6,
   "outputs": [
    {
     "name": "stderr",
     "output_type": "stream",
     "text": [
      "100%|██████████| 7/7 [00:02<00:00,  3.03it/s]"
     ]
    },
    {
     "name": "stdout",
     "output_type": "stream",
     "text": [
      "[1, 1, 1, 1, 1, 1, 1] 1\n"
     ]
    },
    {
     "name": "stderr",
     "output_type": "stream",
     "text": [
      "\n"
     ]
    },
    {
     "data": {
      "text/plain": "{'tifa_score': 1,\n 'question_details': {'are there persons?': {'caption': \"The arms of two persons are recognizable. One person is pointing to the word 'Application' written on top of a document. The other person is holding a pen ready to write.\",\n   'element': 'persons',\n   'question': 'are there persons?',\n   'choices': ['yes', 'no'],\n   'answer': 'yes',\n   'element_type': 'animal/human',\n   'free_form_vqa': 'yes',\n   'multiple_choice_vqa': 'yes',\n   'scores': 1},\n  'who are in the picture?': {'caption': \"The arms of two persons are recognizable. One person is pointing to the word 'Application' written on top of a document. The other person is holding a pen ready to write.\",\n   'element': 'persons',\n   'question': 'who are in the picture?',\n   'choices': ['persons', 'animals', 'robots', 'aliens'],\n   'answer': 'persons',\n   'element_type': 'animal/human',\n   'free_form_vqa': 'people',\n   'multiple_choice_vqa': 'persons',\n   'scores': 1},\n  'is there a word written on top of a document?': {'caption': \"The arms of two persons are recognizable. One person is pointing to the word 'Application' written on top of a document. The other person is holding a pen ready to write.\",\n   'element': 'word',\n   'question': 'is there a word written on top of a document?',\n   'choices': ['yes', 'no'],\n   'answer': 'yes',\n   'element_type': 'object',\n   'free_form_vqa': 'yes',\n   'multiple_choice_vqa': 'yes',\n   'scores': 1},\n  'is there a document?': {'caption': \"The arms of two persons are recognizable. One person is pointing to the word 'Application' written on top of a document. The other person is holding a pen ready to write.\",\n   'element': 'document',\n   'question': 'is there a document?',\n   'choices': ['yes', 'no'],\n   'answer': 'yes',\n   'element_type': 'object',\n   'free_form_vqa': 'yes',\n   'multiple_choice_vqa': 'yes',\n   'scores': 1},\n  'is there a pen?': {'caption': \"The arms of two persons are recognizable. One person is pointing to the word 'Application' written on top of a document. The other person is holding a pen ready to write.\",\n   'element': 'pen',\n   'question': 'is there a pen?',\n   'choices': ['yes', 'no'],\n   'answer': 'yes',\n   'element_type': 'object',\n   'free_form_vqa': 'yes',\n   'multiple_choice_vqa': 'yes',\n   'scores': 1},\n  'what type of writing instrument is this?': {'caption': \"The arms of two persons are recognizable. One person is pointing to the word 'Application' written on top of a document. The other person is holding a pen ready to write.\",\n   'element': 'pen',\n   'question': 'what type of writing instrument is this?',\n   'choices': ['pen', 'pencil', 'marker', 'crayon'],\n   'answer': 'pen',\n   'element_type': 'object',\n   'free_form_vqa': 'pen',\n   'multiple_choice_vqa': 'pen',\n   'scores': 1},\n  \"is one person pointing to the word 'Application' written on top of a document?\": {'caption': \"The arms of two persons are recognizable. One person is pointing to the word 'Application' written on top of a document. The other person is holding a pen ready to write.\",\n   'element': 'pointing',\n   'question': \"is one person pointing to the word 'Application' written on top of a document?\",\n   'choices': ['yes', 'no'],\n   'answer': 'yes',\n   'element_type': 'activity',\n   'free_form_vqa': 'yes',\n   'multiple_choice_vqa': 'yes',\n   'scores': 1}}}"
     },
     "execution_count": 6,
     "metadata": {},
     "output_type": "execute_result"
    }
   ],
   "source": [
    "from PIL import Image\n",
    "\n",
    "image = Image.open(\"../images/Midjourney/Application_2.png\")\n",
    "\n",
    "tifa_res = tifa_score_single(vqa_model, filtered_questions, image)\n",
    "tifa_res"
   ],
   "metadata": {
    "collapsed": false,
    "ExecuteTime": {
     "end_time": "2024-07-24T16:18:12.256430300Z",
     "start_time": "2024-07-24T16:18:09.896750700Z"
    }
   },
   "id": "b6439f7d1ca9e357"
  },
  {
   "cell_type": "code",
   "execution_count": null,
   "outputs": [],
   "source": [],
   "metadata": {
    "collapsed": false
   },
   "id": "2fdd531f06aa1ab7"
  }
 ],
 "metadata": {
  "kernelspec": {
   "display_name": "Python 3 (ipykernel)",
   "language": "python",
   "name": "python3"
  },
  "language_info": {
   "codemirror_mode": {
    "name": "ipython",
    "version": 3
   },
   "file_extension": ".py",
   "mimetype": "text/x-python",
   "name": "python",
   "nbconvert_exporter": "python",
   "pygments_lexer": "ipython3",
   "version": "3.11.8"
  }
 },
 "nbformat": 4,
 "nbformat_minor": 5
}
